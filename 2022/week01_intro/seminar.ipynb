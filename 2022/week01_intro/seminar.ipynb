{
 "nbformat": 4,
 "nbformat_minor": 0,
 "metadata": {
  "colab": {
   "name": "cuda_and_benchmarking.ipynb",
   "provenance": []
  },
  "kernelspec": {
   "name": "python3",
   "display_name": "Python 3"
  },
  "language_info": {
   "name": "python"
  },
  "accelerator": "GPU"
 },
 "cells": [
  {
   "cell_type": "markdown",
   "source": [
    "# Week 1: CUDA operations in PyTorch. Introduction to benchmarking.\n",
    "In this seminar, we'll learn a bit more about the things one needs to keep in mind when using GPU computations, both in general and in PyTorch. We'll also see a couple of examples on benchmarking code in Python; again, there are some caveats with CUDA.\n",
    "\n",
    "First, let's import PyTorch and get some information about the currently used device:"
   ],
   "metadata": {
    "id": "4yYIhuphpTyt"
   }
  },
  {
   "cell_type": "code",
   "execution_count": 1,
   "metadata": {
    "id": "089F8Q-yK9-w",
    "colab": {
     "base_uri": "https://localhost:8080/"
    },
    "outputId": "dbd000db-22a2-40cf-afcb-41222384e4e9"
   },
   "outputs": [
    {
     "output_type": "execute_result",
     "data": {
      "text/plain": [
       "True"
      ]
     },
     "metadata": {},
     "execution_count": 1
    }
   ],
   "source": [
    "import torch\n",
    "torch.cuda.is_available()"
   ]
  },
  {
   "cell_type": "code",
   "source": [
    "torch.cuda.get_device_properties(0)"
   ],
   "metadata": {
    "colab": {
     "base_uri": "https://localhost:8080/"
    },
    "id": "C9iz9uYOn5JY",
    "outputId": "7faf56c8-7ec2-4999-b895-a1c8343bfd0c"
   },
   "execution_count": 2,
   "outputs": [
    {
     "output_type": "execute_result",
     "data": {
      "text/plain": [
       "_CudaDeviceProperties(name='Tesla T4', major=7, minor=5, total_memory=15109MB, multi_processor_count=40)"
      ]
     },
     "metadata": {},
     "execution_count": 2
    }
   ]
  },
  {
   "cell_type": "markdown",
   "source": [
    "## Memory allocation\n",
    "As discussed in the lecture, GPU memory is separate from the CPU memory and needs to be explicitly allocated, triggering a host-device synchronization. PyTorch uses a caching memory allocator to repurpose already available but unused memory fragments.\n",
    "\n",
    "See this example: we allocate the memory inside the function scope, so the tensor is deleted as soon as the scope is left:"
   ],
   "metadata": {
    "id": "i3_7snMwx5Yq"
   }
  },
  {
   "cell_type": "code",
   "source": [
    "def allocate_empty_tensor(dim_size):\n",
    "  a=torch.empty(4096,dim_size,dtype=torch.float32,device='cuda')"
   ],
   "metadata": {
    "id": "Maafa5Nehba-"
   },
   "execution_count": 3,
   "outputs": []
  },
  {
   "cell_type": "code",
   "source": [
    "allocate_empty_tensor(2048)"
   ],
   "metadata": {
    "id": "LhI9_OvaoOIi"
   },
   "execution_count": 4,
   "outputs": []
  },
  {
   "cell_type": "markdown",
   "source": [
    "Printing the allocated memory size gives us an expected number of zero bytes:"
   ],
   "metadata": {
    "id": "XAxd3nkJ3UsK"
   }
  },
  {
   "cell_type": "code",
   "source": [
    "torch.cuda.memory_allocated()"
   ],
   "metadata": {
    "colab": {
     "base_uri": "https://localhost:8080/"
    },
    "id": "rez0XGH6gGF9",
    "outputId": "1ffc86de-4d98-4661-9607-10ba2b0736db"
   },
   "execution_count": 5,
   "outputs": [
    {
     "output_type": "execute_result",
     "data": {
      "text/plain": [
       "0"
      ]
     },
     "metadata": {},
     "execution_count": 5
    }
   ]
  },
  {
   "cell_type": "markdown",
   "source": [
    "However, the GPU memory is still in use by the process; this is shown by `torch.cuda.memory_reserved` or `nvidia-smi` from the terminal. As a result, working in a shared GPU environment can leave a lot of unused yet allocated memory."
   ],
   "metadata": {
    "id": "qzcQ2ohm3d2v"
   }
  },
  {
   "cell_type": "code",
   "source": [
    "torch.cuda.memory_reserved()"
   ],
   "metadata": {
    "colab": {
     "base_uri": "https://localhost:8080/"
    },
    "id": "H6IOufbXoQwI",
    "outputId": "6b6952e1-1992-41ea-9f6d-109154e33d2d"
   },
   "execution_count": 6,
   "outputs": [
    {
     "output_type": "execute_result",
     "data": {
      "text/plain": [
       "33554432"
      ]
     },
     "metadata": {},
     "execution_count": 6
    }
   ]
  },
  {
   "cell_type": "code",
   "source": [
    "!nvidia-smi"
   ],
   "metadata": {
    "colab": {
     "base_uri": "https://localhost:8080/"
    },
    "id": "1iM6LZBWIDT1",
    "outputId": "f92ef9b5-03e5-47e2-e19f-6da3d055d9ff"
   },
   "execution_count": 7,
   "outputs": [
    {
     "output_type": "stream",
     "name": "stdout",
     "text": [
      "Wed Jan 19 13:06:35 2022       \n",
      "+-----------------------------------------------------------------------------+\n",
      "| NVIDIA-SMI 495.46       Driver Version: 460.32.03    CUDA Version: 11.2     |\n",
      "|-------------------------------+----------------------+----------------------+\n",
      "| GPU  Name        Persistence-M| Bus-Id        Disp.A | Volatile Uncorr. ECC |\n",
      "| Fan  Temp  Perf  Pwr:Usage/Cap|         Memory-Usage | GPU-Util  Compute M. |\n",
      "|                               |                      |               MIG M. |\n",
      "|===============================+======================+======================|\n",
      "|   0  Tesla T4            Off  | 00000000:00:04.0 Off |                    0 |\n",
      "| N/A   47C    P0    28W /  70W |   1352MiB / 15109MiB |      3%      Default |\n",
      "|                               |                      |                  N/A |\n",
      "+-------------------------------+----------------------+----------------------+\n",
      "                                                                               \n",
      "+-----------------------------------------------------------------------------+\n",
      "| Processes:                                                                  |\n",
      "|  GPU   GI   CI        PID   Type   Process name                  GPU Memory |\n",
      "|        ID   ID                                                   Usage      |\n",
      "|=============================================================================|\n",
      "|  No running processes found                                                 |\n",
      "+-----------------------------------------------------------------------------+\n"
     ]
    }
   ]
  },
  {
   "cell_type": "markdown",
   "source": [
    "Let's clear the cache now and see what happens:"
   ],
   "metadata": {
    "id": "JUK6clp83nGu"
   }
  },
  {
   "cell_type": "code",
   "source": [
    "torch.cuda.empty_cache()\n",
    "torch.cuda.memory_reserved()"
   ],
   "metadata": {
    "colab": {
     "base_uri": "https://localhost:8080/"
    },
    "id": "SSPz5VWYopb7",
    "outputId": "aa407dda-095e-4396-faf8-52ee6251498b"
   },
   "execution_count": 8,
   "outputs": [
    {
     "output_type": "execute_result",
     "data": {
      "text/plain": [
       "0"
      ]
     },
     "metadata": {},
     "execution_count": 8
    }
   ]
  },
  {
   "cell_type": "markdown",
   "source": [
    "Note that this operation triggers a CPU-GPU synchronization, and thus using it in your code can significantly hurt the performance. It's almost always better to carefully manage the lifetime of your GPU tensors and avoid excessive allocations than to empty the cache.\n",
    "\n",
    "Now, let's see how this cache is reused by allocating two tensors in a row: first a larger one, then a smaller one."
   ],
   "metadata": {
    "id": "m3m-rcF64j1l"
   }
  },
  {
   "cell_type": "code",
   "source": [
    "allocate_empty_tensor(2048)\n",
    "torch.cuda.memory_reserved()"
   ],
   "metadata": {
    "colab": {
     "base_uri": "https://localhost:8080/"
    },
    "id": "8YHdjvrn32_F",
    "outputId": "a3ce249c-a124-4235-920d-0a7c3700c8df"
   },
   "execution_count": 9,
   "outputs": [
    {
     "output_type": "execute_result",
     "data": {
      "text/plain": [
       "33554432"
      ]
     },
     "metadata": {},
     "execution_count": 9
    }
   ]
  },
  {
   "cell_type": "code",
   "source": [
    "allocate_empty_tensor(1024)\n",
    "torch.cuda.memory_reserved()"
   ],
   "metadata": {
    "colab": {
     "base_uri": "https://localhost:8080/"
    },
    "id": "4qKRSbS634vg",
    "outputId": "7e94c0f4-b3de-4a8f-ae06-097bb906cc91"
   },
   "execution_count": 10,
   "outputs": [
    {
     "output_type": "execute_result",
     "data": {
      "text/plain": [
       "33554432"
      ]
     },
     "metadata": {},
     "execution_count": 10
    }
   ]
  },
  {
   "cell_type": "markdown",
   "source": [
    "As expected, we reuse the cache, since the array fits into the allocated chunk.\n",
    "\n",
    "However, if we attempt to do this with a larger tensor (3072 elements in the second dimension instead of 2048), we observe something different:"
   ],
   "metadata": {
    "id": "MpLYUugy4hTW"
   }
  },
  {
   "cell_type": "code",
   "source": [
    "allocate_empty_tensor(3072)\n",
    "torch.cuda.memory_reserved()"
   ],
   "metadata": {
    "colab": {
     "base_uri": "https://localhost:8080/"
    },
    "id": "aOe0In1I3_ix",
    "outputId": "290c1680-eae7-4eb8-c9e5-d9ccd26278c7"
   },
   "execution_count": 11,
   "outputs": [
    {
     "output_type": "execute_result",
     "data": {
      "text/plain": [
       "83886080"
      ]
     },
     "metadata": {},
     "execution_count": 11
    }
   ]
  },
  {
   "cell_type": "markdown",
   "source": [
    "What happened? The chunk of memory that was allocated for a 4096x2048 array did not fit a tensor of size 4096x3072: thus, PyTorch needed to allocate additional segment of a sufficient size while keeping the previous one allocated (in case the user creates a smaller tensor later at some point).\n",
    "\n",
    "In practice, this means that if your code is dealing with tensors of dynamic size (changing batch sizes, sequence lengths or image resolutions), it is recommended to first warm up the cache by allocating the tensors for the largest expected input. Otherwise, in the worst case you allocate a quadratic amount of memory with respect to the largest input size instead of a linear one.\n",
    "\n",
    "You can also view more detailed allocation statistics by running `torch.cuda.memory_stats()`"
   ],
   "metadata": {
    "id": "ayR2vJmL4g4a"
   }
  },
  {
   "cell_type": "code",
   "source": [
    "memory_stats = torch.cuda.memory_stats()\n",
    "print(memory_stats['active.all.allocated'])\n",
    "print(memory_stats['active.all.current'])\n",
    "print(memory_stats['active.all.peak'])\n",
    "print(memory_stats['reserved_bytes.all.current'])"
   ],
   "metadata": {
    "colab": {
     "base_uri": "https://localhost:8080/"
    },
    "id": "leOBOx9OmCqP",
    "outputId": "b10e5d79-1b98-49d2-df5b-2966d02980cb"
   },
   "execution_count": 12,
   "outputs": [
    {
     "output_type": "stream",
     "name": "stdout",
     "text": [
      "4\n",
      "0\n",
      "1\n",
      "83886080\n"
     ]
    }
   ]
  },
  {
   "cell_type": "code",
   "source": [
    "torch.cuda.empty_cache()\n",
    "print(torch.cuda.memory_stats()['reserved_bytes.all.current'])"
   ],
   "metadata": {
    "colab": {
     "base_uri": "https://localhost:8080/"
    },
    "collapsed": true,
    "id": "BtsyuLdFI6N9",
    "outputId": "146065e1-e074-43a1-8ee1-d0d72c4a20ba"
   },
   "execution_count": 13,
   "outputs": [
    {
     "output_type": "stream",
     "name": "stdout",
     "text": [
      "0\n"
     ]
    }
   ]
  },
  {
   "cell_type": "markdown",
   "source": [
    "## Benchmarking intro\n",
    "The simplest way to check the performance impact of any change is to compare the runtime of code with and without it. Here, we will consider a simple way of doing this in Python.\n",
    "\n",
    "First, let's define two functions that compute a batched version of a dot product for two matrices:"
   ],
   "metadata": {
    "id": "PexpzQZ_xPss"
   }
  },
  {
   "cell_type": "code",
   "source": [
    "def batched_dot_mul_sum(a, b):\n",
    "    '''Computes batched dot by multiplying and summing'''\n",
    "    return a.mul(b).sum(-1)\n",
    "\n",
    "\n",
    "def batched_dot_bmm(a, b):\n",
    "    '''Computes batched dot by reducing to bmm'''\n",
    "    a = a.reshape(-1, 1, a.shape[-1])\n",
    "    b = b.reshape(-1, b.shape[-1], 1)\n",
    "    return torch.bmm(a, b).flatten(-3)\n",
    "\n",
    "\n",
    "# Input for benchmarking\n",
    "x = torch.randn(10000, 64)\n",
    "\n",
    "# Ensure that both functions compute the same output\n",
    "assert batched_dot_mul_sum(x, x).allclose(batched_dot_bmm(x, x))\n"
   ],
   "metadata": {
    "id": "YH5Wbu_GLLN0"
   },
   "execution_count": 14,
   "outputs": []
  },
  {
   "cell_type": "markdown",
   "source": [
    "To conduct microbenchmarks by running the code hundreds of times and measuring the average execution time, you can use the built-in [timeit](https://docs.python.org/3/library/timeit.html) module. Simply create a Timer object with relevant arguments and call `.timeit()`:"
   ],
   "metadata": {
    "id": "7iJ6zelnyE37"
   }
  },
  {
   "cell_type": "code",
   "source": [
    "import timeit\n",
    "\n",
    "t0 = timeit.Timer(\n",
    "    stmt='batched_dot_mul_sum(x, x)', \n",
    "    setup='from __main__ import batched_dot_mul_sum',\n",
    "    globals={'x': x})\n",
    "\n",
    "t1 = timeit.Timer(\n",
    "    stmt='batched_dot_bmm(x, x)',\n",
    "    setup='from __main__ import batched_dot_bmm',\n",
    "    globals={'x': x})\n",
    "\n",
    "print(f'mul_sum(x, x):  {t0.timeit(100) / 100 * 1e6:>5.1f} us')\n",
    "print(f'bmm(x, x):      {t1.timeit(100) / 100 * 1e6:>5.1f} us')"
   ],
   "metadata": {
    "colab": {
     "base_uri": "https://localhost:8080/"
    },
    "id": "rKAVpQ1hLMxI",
    "outputId": "fddd1374-4629-43b0-982e-e2d3b801bca0"
   },
   "execution_count": 15,
   "outputs": [
    {
     "output_type": "stream",
     "name": "stdout",
     "text": [
      "mul_sum(x, x):  611.1 us\n",
      "bmm(x, x):      767.0 us\n"
     ]
    }
   ]
  },
  {
   "cell_type": "markdown",
   "source": [
    "In IPython, there exist line and cell timeit [magics](https://ipython.readthedocs.io/en/stable/interactive/magics.html#cell-magics). They can be more convenient for smaller cases but allow you a bit less control over the setup."
   ],
   "metadata": {
    "id": "OFm8rggSK3FW"
   }
  },
  {
   "cell_type": "code",
   "source": [
    "%timeit batched_dot_mul_sum(x, x)"
   ],
   "metadata": {
    "colab": {
     "base_uri": "https://localhost:8080/"
    },
    "id": "NM0hjbs3JxLF",
    "outputId": "7f142fc3-6321-44c3-9540-aee7efd5e5df"
   },
   "execution_count": 16,
   "outputs": [
    {
     "output_type": "stream",
     "name": "stdout",
     "text": [
      "1000 loops, best of 5: 487 µs per loop\n"
     ]
    }
   ]
  },
  {
   "cell_type": "code",
   "source": [
    "%timeit batched_dot_bmm(x, x)"
   ],
   "metadata": {
    "colab": {
     "base_uri": "https://localhost:8080/"
    },
    "id": "a28ZIFy_KZl0",
    "outputId": "a9920283-2cd3-41bd-cfb2-32bb6073a228"
   },
   "execution_count": 17,
   "outputs": [
    {
     "output_type": "stream",
     "name": "stdout",
     "text": [
      "The slowest run took 5.91 times longer than the fastest. This could mean that an intermediate result is being cached.\n",
      "1000 loops, best of 5: 736 µs per loop\n"
     ]
    }
   ]
  },
  {
   "cell_type": "markdown",
   "source": [
    "[torch.utils.benchmark](https://pytorch.org/docs/stable/benchmark_utils.html) copies the API of timeit while helping the user avoid common mistakes. \n",
    "\n",
    "First, let's run it on the same code and data:"
   ],
   "metadata": {
    "id": "F1WqSrVJyEAd"
   }
  },
  {
   "cell_type": "code",
   "source": [
    "import torch.utils.benchmark as benchmark\n",
    "\n",
    "t0 = benchmark.Timer(\n",
    "    stmt='batched_dot_mul_sum(x, x)', \n",
    "    setup='from __main__ import batched_dot_mul_sum',\n",
    "    globals={'x': x})\n",
    "\n",
    "t1 = benchmark.Timer(\n",
    "    stmt='batched_dot_bmm(x, x)',\n",
    "    setup='from __main__ import batched_dot_bmm',\n",
    "    globals={'x': x})\n",
    "\n",
    "print(t0.timeit(100))\n",
    "print(t1.timeit(100))"
   ],
   "metadata": {
    "colab": {
     "base_uri": "https://localhost:8080/"
    },
    "id": "GF1XAx1ULSch",
    "outputId": "99bf21fa-52f8-4c86-bdbe-db4a6b722b64"
   },
   "execution_count": 18,
   "outputs": [
    {
     "output_type": "stream",
     "name": "stdout",
     "text": [
      "<torch.utils.benchmark.utils.common.Measurement object at 0x7fb867c26050>\n",
      "batched_dot_mul_sum(x, x)\n",
      "setup: from __main__ import batched_dot_mul_sum\n",
      "  595.78 us\n",
      "  1 measurement, 100 runs , 1 thread\n",
      "<torch.utils.benchmark.utils.common.Measurement object at 0x7fb860319e50>\n",
      "batched_dot_bmm(x, x)\n",
      "setup: from __main__ import batched_dot_bmm\n",
      "  799.31 us\n",
      "  1 measurement, 100 runs , 1 thread\n"
     ]
    }
   ]
  },
  {
   "cell_type": "code",
   "source": [
    "# in addition, we can set the number of threads for CPU computations\n",
    "num_threads = torch.get_num_threads()\n",
    "print(f'Benchmarking on {num_threads} threads')\n",
    "\n",
    "t0 = benchmark.Timer(\n",
    "    stmt='batched_dot_mul_sum(x, x)', \n",
    "    setup='from __main__ import batched_dot_mul_sum',\n",
    "    globals={'x': x},\n",
    "    num_threads=num_threads,\n",
    "    label='Multithreaded batch dot',\n",
    "    sub_label='Implemented using mul and sum')\n",
    "\n",
    "t1 = benchmark.Timer(\n",
    "    stmt='batched_dot_bmm(x, x)',\n",
    "    setup='from __main__ import batched_dot_bmm',\n",
    "    globals={'x': x},\n",
    "    num_threads=num_threads,\n",
    "    label='Multithreaded batch dot',\n",
    "    sub_label='Implemented using bmm')\n",
    "\n",
    "print(t0.timeit(100))\n",
    "print(t1.timeit(100))"
   ],
   "metadata": {
    "colab": {
     "base_uri": "https://localhost:8080/"
    },
    "id": "jHfn-xHLLTxm",
    "outputId": "2d7401b1-4831-4f34-bbb8-12f1d4c27304"
   },
   "execution_count": 19,
   "outputs": [
    {
     "output_type": "stream",
     "name": "stdout",
     "text": [
      "Benchmarking on 1 threads\n",
      "<torch.utils.benchmark.utils.common.Measurement object at 0x7fb8602fa3d0>\n",
      "Multithreaded batch dot: Implemented using mul and sum\n",
      "setup: from __main__ import batched_dot_mul_sum\n",
      "  560.45 us\n",
      "  1 measurement, 100 runs , 1 thread\n",
      "<torch.utils.benchmark.utils.common.Measurement object at 0x7fb96be92e10>\n",
      "Multithreaded batch dot: Implemented using bmm\n",
      "setup: from __main__ import batched_dot_bmm\n",
      "  835.78 us\n",
      "  1 measurement, 100 runs , 1 thread\n"
     ]
    }
   ]
  },
  {
   "cell_type": "code",
   "source": [
    "# we can change it globally for PyTorch and measure the impact\n",
    "prev_num_threads = num_threads\n",
    "torch.set_num_threads(2)\n",
    "\n",
    "num_threads = torch.get_num_threads()\n",
    "print(f'Benchmarking on {num_threads} threads')\n",
    "\n",
    "t0 = benchmark.Timer(\n",
    "    stmt='batched_dot_mul_sum(x, x)', \n",
    "    setup='from __main__ import batched_dot_mul_sum',\n",
    "    globals={'x': x},\n",
    "    num_threads=num_threads,\n",
    "    label='Multithreaded batch dot',\n",
    "    sub_label='Implemented using mul and sum')\n",
    "\n",
    "t1 = benchmark.Timer(\n",
    "    stmt='batched_dot_bmm(x, x)',\n",
    "    setup='from __main__ import batched_dot_bmm',\n",
    "    globals={'x': x},\n",
    "    num_threads=num_threads,\n",
    "    label='Multithreaded batch dot',\n",
    "    sub_label='Implemented using bmm')\n",
    "\n",
    "print(t0.timeit(100))\n",
    "print(t1.timeit(100))\n",
    "# in this case, we don't get any speedup, likely due to the overhead\n",
    "\n",
    "torch.set_num_threads(prev_num_threads)"
   ],
   "metadata": {
    "colab": {
     "base_uri": "https://localhost:8080/"
    },
    "id": "xuHOmnUplY5T",
    "outputId": "28fd7c63-e91f-496c-dd4c-69c6c54d0f8e"
   },
   "execution_count": 20,
   "outputs": [
    {
     "output_type": "stream",
     "name": "stdout",
     "text": [
      "Benchmarking on 2 threads\n",
      "<torch.utils.benchmark.utils.common.Measurement object at 0x7fb867c1ac50>\n",
      "Multithreaded batch dot: Implemented using mul and sum\n",
      "setup: from __main__ import batched_dot_mul_sum\n",
      "  946.77 us\n",
      "  1 measurement, 100 runs , 2 threads\n",
      "<torch.utils.benchmark.utils.common.Measurement object at 0x7fb84e7a7c50>\n",
      "Multithreaded batch dot: Implemented using bmm\n",
      "setup: from __main__ import batched_dot_bmm\n",
      "  1.00 ms\n",
      "  1 measurement, 100 runs , 2 threads\n"
     ]
    }
   ]
  },
  {
   "cell_type": "code",
   "source": [
    "# by the way, what CPU do we have?\n",
    "!lscpu"
   ],
   "metadata": {
    "colab": {
     "base_uri": "https://localhost:8080/"
    },
    "id": "0sbnCapQNirw",
    "outputId": "5566aec0-f6ae-4903-d493-70d79e0e6dce"
   },
   "execution_count": 21,
   "outputs": [
    {
     "output_type": "stream",
     "name": "stdout",
     "text": [
      "Architecture:        x86_64\n",
      "CPU op-mode(s):      32-bit, 64-bit\n",
      "Byte Order:          Little Endian\n",
      "CPU(s):              2\n",
      "On-line CPU(s) list: 0,1\n",
      "Thread(s) per core:  2\n",
      "Core(s) per socket:  1\n",
      "Socket(s):           1\n",
      "NUMA node(s):        1\n",
      "Vendor ID:           GenuineIntel\n",
      "CPU family:          6\n",
      "Model:               79\n",
      "Model name:          Intel(R) Xeon(R) CPU @ 2.20GHz\n",
      "Stepping:            0\n",
      "CPU MHz:             2199.998\n",
      "BogoMIPS:            4399.99\n",
      "Hypervisor vendor:   KVM\n",
      "Virtualization type: full\n",
      "L1d cache:           32K\n",
      "L1i cache:           32K\n",
      "L2 cache:            256K\n",
      "L3 cache:            56320K\n",
      "NUMA node0 CPU(s):   0,1\n",
      "Flags:               fpu vme de pse tsc msr pae mce cx8 apic sep mtrr pge mca cmov pat pse36 clflush mmx fxsr sse sse2 ss ht syscall nx pdpe1gb rdtscp lm constant_tsc rep_good nopl xtopology nonstop_tsc cpuid tsc_known_freq pni pclmulqdq ssse3 fma cx16 pcid sse4_1 sse4_2 x2apic movbe popcnt aes xsave avx f16c rdrand hypervisor lahf_lm abm 3dnowprefetch invpcid_single ssbd ibrs ibpb stibp fsgsbase tsc_adjust bmi1 hle avx2 smep bmi2 erms invpcid rtm rdseed adx smap xsaveopt arat md_clear arch_capabilities\n"
     ]
    }
   ]
  },
  {
   "cell_type": "markdown",
   "source": [
    "## Benchmarking GPU code\n",
    "As we discussed in the lecture, CUDA kernel execution and PyTorch GPU operations are asynchronous. \n",
    "This means that it is possible to launch several kernels in a row before receiving results from the first one. As a consequence, naive benchmarking without synchronization is likely to give you unrealistic results.\n",
    "\n",
    "See the same example, but with slightly larger matrices on the GPU:"
   ],
   "metadata": {
    "id": "KHJDeL81zJt4"
   }
  },
  {
   "cell_type": "code",
   "source": [
    "import timeit\n",
    "\n",
    "x = torch.randn(10000, 1024, device='cuda')\n",
    "\n",
    "t0 = timeit.Timer(\n",
    "    stmt='batched_dot_mul_sum(x, x)',\n",
    "    setup='from __main__ import batched_dot_mul_sum',\n",
    "    globals={'x': x})\n",
    "\n",
    "t1 = timeit.Timer(\n",
    "    stmt='batched_dot_bmm(x, x)',\n",
    "    setup='from __main__ import batched_dot_bmm',\n",
    "    globals={'x': x})\n",
    "\n",
    "# Ran each twice to show difference before/after warmup\n",
    "print(f'mul_sum(x, x):  {t0.timeit(100) / 100 * 1e6:>5.1f} us')\n",
    "print(f'mul_sum(x, x):  {t0.timeit(100) / 100 * 1e6:>5.1f} us')\n",
    "print(f'bmm(x, x):      {t1.timeit(100) / 100 * 1e6:>5.1f} us')\n",
    "print(f'bmm(x, x):      {t1.timeit(100) / 100 * 1e6:>5.1f} us')"
   ],
   "metadata": {
    "colab": {
     "base_uri": "https://localhost:8080/"
    },
    "id": "UWPVFvQxLWk9",
    "outputId": "3a3ee358-9e8b-4457-cd30-a6c18da742ef"
   },
   "execution_count": 22,
   "outputs": [
    {
     "output_type": "stream",
     "name": "stdout",
     "text": [
      "mul_sum(x, x):   30.2 us\n",
      "mul_sum(x, x):   15.9 us\n",
      "bmm(x, x):      983.1 us\n",
      "bmm(x, x):       24.8 us\n"
     ]
    }
   ]
  },
  {
   "cell_type": "markdown",
   "source": [
    "First, we see that the difference between the first and the second runs of timeit, which happens because of loading [cuBLAS](https://docs.nvidia.com/cuda/cublas/index.html) — a CUDA library for accelerated linear algebra.\n",
    "\n",
    "Second, the runtimes of two methods seem too small. \n",
    "\n",
    "Let's run the same test with `torch.utils.benchmark` to see a different set of results."
   ],
   "metadata": {
    "id": "xt5nFXZJzn-q"
   }
  },
  {
   "cell_type": "code",
   "source": [
    "t0 = benchmark.Timer(\n",
    "    stmt='batched_dot_mul_sum(x, x)', \n",
    "    setup='from __main__ import batched_dot_mul_sum',\n",
    "    globals={'x': x})\n",
    "\n",
    "t1 = benchmark.Timer(\n",
    "    stmt='batched_dot_bmm(x, x)',\n",
    "    setup='from __main__ import batched_dot_bmm',\n",
    "    globals={'x': x})\n",
    "\n",
    "# Run only once since benchmark module does warmup for us\n",
    "print(t0.timeit(100))\n",
    "print(t1.timeit(100))"
   ],
   "metadata": {
    "colab": {
     "base_uri": "https://localhost:8080/"
    },
    "id": "G2S71HcljicI",
    "outputId": "046434a7-5932-4286-ea78-e8771ca5d7c2"
   },
   "execution_count": 23,
   "outputs": [
    {
     "output_type": "stream",
     "name": "stdout",
     "text": [
      "<torch.utils.benchmark.utils.common.Measurement object at 0x7fb84e7b8a50>\n",
      "batched_dot_mul_sum(x, x)\n",
      "setup: from __main__ import batched_dot_mul_sum\n",
      "  504.62 us\n",
      "  1 measurement, 100 runs , 1 thread\n",
      "<torch.utils.benchmark.utils.common.Measurement object at 0x7fb84e7c3bd0>\n",
      "batched_dot_bmm(x, x)\n",
      "setup: from __main__ import batched_dot_bmm\n",
      "  408.29 us\n",
      "  1 measurement, 100 runs , 1 thread\n"
     ]
    }
   ]
  },
  {
   "cell_type": "markdown",
   "source": [
    "Now we have a more realistic set of measurements, which is caused by explicitly triggering the CPU-GPU synchronization and awaiting the results after launching the multiplication. The runtime is comparable to what we had in a previous set of benchmarks, but pay attention that now the matrices being multiplied are 16 times bigger.\n",
    "\n",
    "Let's implement the microbenchmarking code ourselves using nothing but [`time.time()`](https://docs.python.org/3/library/time.html#time.time) and CUDA methods given by PyTorch. First, we'll run `batched_dot_mul_sum` on the GPU with and without synchronization and see how this affects the results:"
   ],
   "metadata": {
    "id": "k0OG91pQztfY"
   }
  },
  {
   "cell_type": "code",
   "source": [
    "from time import time\n",
    "import numpy as np\n",
    "\n",
    "execution_times = []\n",
    "\n",
    "for _ in range(100):\n",
    "  start_time = time()\n",
    "  batched_dot_mul_sum(x,x)\n",
    "  execution_times.append(time()-start_time)\n",
    "\n",
    "np.mean(execution_times)"
   ],
   "metadata": {
    "colab": {
     "base_uri": "https://localhost:8080/"
    },
    "id": "gFyWDoTnrkdw",
    "outputId": "e10bd555-13af-43e3-99ac-4a1a498105c7"
   },
   "execution_count": 24,
   "outputs": [
    {
     "output_type": "execute_result",
     "data": {
      "text/plain": [
       "3.757953643798828e-05"
      ]
     },
     "metadata": {},
     "execution_count": 24
    }
   ]
  },
  {
   "cell_type": "markdown",
   "source": [
    "Compare this with the result that does not compute anything:"
   ],
   "metadata": {
    "id": "daRiA7czQSF1"
   }
  },
  {
   "cell_type": "code",
   "source": [
    "execution_times = []\n",
    "\n",
    "for _ in range(100):\n",
    "  start = time()\n",
    "  execution_times.append(time()-start)\n",
    "\n",
    "np.mean(execution_times)"
   ],
   "metadata": {
    "colab": {
     "base_uri": "https://localhost:8080/"
    },
    "id": "bhyGF5-Ftta4",
    "outputId": "daf62205-7f55-4499-f5cf-fc4a617b65d7"
   },
   "execution_count": 25,
   "outputs": [
    {
     "output_type": "execute_result",
     "data": {
      "text/plain": [
       "3.1948089599609377e-07"
      ]
     },
     "metadata": {},
     "execution_count": 25
    }
   ]
  },
  {
   "cell_type": "markdown",
   "source": [
    "Finally, let's explicitly call `torch.cuda.synchronize` at the end of each iteration to see the difference."
   ],
   "metadata": {
    "id": "KJ8KEHVKQ1Y_"
   }
  },
  {
   "cell_type": "code",
   "source": [
    "execution_times = []\n",
    "\n",
    "for _ in range(100):\n",
    "  start_time = time()\n",
    "  batched_dot_mul_sum(x,x)\n",
    "  torch.cuda.synchronize()\n",
    "  execution_times.append(time()-start_time)\n",
    "\n",
    "np.mean(execution_times)"
   ],
   "metadata": {
    "colab": {
     "base_uri": "https://localhost:8080/"
    },
    "id": "kjmFVZdPQjrj",
    "outputId": "598c259f-4233-484f-880e-e941fad656ad"
   },
   "execution_count": 26,
   "outputs": [
    {
     "output_type": "execute_result",
     "data": {
      "text/plain": [
       "0.0007436561584472656"
      ]
     },
     "metadata": {},
     "execution_count": 26
    }
   ]
  },
  {
   "cell_type": "markdown",
   "source": [
    "The same thing applies to the actual models. Let's take `Linear` as a simplest example:"
   ],
   "metadata": {
    "id": "r4AKp3IrW_ei"
   }
  },
  {
   "cell_type": "code",
   "source": [
    "x = torch.randn(10000, 512, device='cuda')\n",
    "linear = torch.nn.Linear(512,1024,bias=False,device='cuda')\n",
    "N_ITERS = 200\n",
    "\n",
    "execution_times = []\n",
    "\n",
    "for _ in range(N_ITERS):\n",
    "  start = time()\n",
    "  result = linear(x)\n",
    "  execution_times.append(time()-start)\n",
    "\n",
    "np.mean(execution_times)"
   ],
   "metadata": {
    "colab": {
     "base_uri": "https://localhost:8080/"
    },
    "id": "E21i4UMYujuQ",
    "outputId": "3e14bf08-c244-480a-c5dd-671eaf500635"
   },
   "execution_count": 27,
   "outputs": [
    {
     "output_type": "execute_result",
     "data": {
      "text/plain": [
       "5.4090023040771485e-05"
      ]
     },
     "metadata": {},
     "execution_count": 27
    }
   ]
  },
  {
   "cell_type": "code",
   "source": [
    "execution_times = []\n",
    "\n",
    "for _ in range(N_ITERS):\n",
    "  start = time()\n",
    "  result = linear(x)\n",
    "  torch.cuda.synchronize()\n",
    "  execution_times.append(time()-start)\n",
    "\n",
    "np.mean(execution_times)"
   ],
   "metadata": {
    "colab": {
     "base_uri": "https://localhost:8080/"
    },
    "id": "T6oR06jMvXA3",
    "outputId": "e9809b17-f0d6-4dc7-815b-990e0458113b"
   },
   "execution_count": 28,
   "outputs": [
    {
     "output_type": "execute_result",
     "data": {
      "text/plain": [
       "0.004895644187927246"
      ]
     },
     "metadata": {},
     "execution_count": 28
    }
   ]
  },
  {
   "cell_type": "code",
   "source": [
    "execution_times = []\n",
    "\n",
    "start = time()\n",
    "for _ in range(N_ITERS):\n",
    "  result = linear(x)\n",
    "torch.cuda.synchronize()\n",
    "\n",
    "(time()-start)/N_ITERS"
   ],
   "metadata": {
    "colab": {
     "base_uri": "https://localhost:8080/"
    },
    "id": "bNJ0S1ykwPtZ",
    "outputId": "8c8a4e85-2b20-4714-e138-89b5e23abdfb"
   },
   "execution_count": 29,
   "outputs": [
    {
     "output_type": "execute_result",
     "data": {
      "text/plain": [
       "0.00237260103225708"
      ]
     },
     "metadata": {},
     "execution_count": 29
    }
   ]
  },
  {
   "cell_type": "markdown",
   "source": [
    "Of course, `torch.utils.benchmark` also works:"
   ],
   "metadata": {
    "id": "7C3AJER9XU0t"
   }
  },
  {
   "cell_type": "code",
   "source": [
    "t0 = benchmark.Timer(\n",
    "    stmt='linear(x)', \n",
    "    globals={'x': x, 'linear': linear})\n",
    "print(t0.timeit(100))"
   ],
   "metadata": {
    "colab": {
     "base_uri": "https://localhost:8080/"
    },
    "id": "ISGCgjslvqXz",
    "outputId": "51fdbd37-ec83-40d9-d4a5-c2cc22712e95"
   },
   "execution_count": 30,
   "outputs": [
    {
     "output_type": "stream",
     "name": "stdout",
     "text": [
      "<torch.utils.benchmark.utils.common.Measurement object at 0x7fb867c1ae90>\n",
      "linear(x)\n",
      "  2.43 ms\n",
      "  1 measurement, 100 runs , 1 thread\n"
     ]
    }
   ]
  },
  {
   "cell_type": "markdown",
   "source": [
    "## CUDA Streams\n",
    "To execute several operations concurrently, you may use CUDA streams in PyTorch. Below, you can see an example of their usage:\n",
    "\n",
    "However, as you will see in the matrix multiplication example, the usefulness streams is quite limited: the concurrent kernels need to underutilize the GPU and yet take long enough to compute."
   ],
   "metadata": {
    "id": "j8HSUDAISim3"
   }
  },
  {
   "cell_type": "code",
   "source": [
    "cuda = torch.device('cuda')\n",
    "s = torch.cuda.Stream()  # Create a new stream.\n",
    "A = torch.empty((100, 100), device=cuda).normal_(0.0, 1.0)\n",
    "with torch.cuda.stream(s):\n",
    "    # sum() may start execution before normal_() finishes!\n",
    "    B = torch.sum(A)"
   ],
   "metadata": {
    "id": "VAwCkCrgmwLw"
   },
   "execution_count": 31,
   "outputs": []
  },
  {
   "cell_type": "code",
   "source": [
    "s1 = torch.cuda.Stream()\n",
    "s2 = torch.cuda.Stream()\n",
    "# Initialize cuda tensors here. E.g.:\n",
    "A = torch.rand(1000, 1000, device = 'cuda')\n",
    "B = torch.rand(1000, 1000, device = 'cuda')\n",
    "# Wait for the above tensors to initialize.\n",
    "torch.cuda.synchronize()\n",
    "\n",
    "execution_times = []\n",
    "\n",
    "for _ in range(100):\n",
    "    start = time()\n",
    "    with torch.cuda.stream(s1):\n",
    "        C = torch.mm(A, A)\n",
    "    with torch.cuda.stream(s2):\n",
    "        D = torch.mm(B, B)\n",
    "    # Wait for C and D to be computed.\n",
    "    torch.cuda.synchronize()\n",
    "    execution_times.append(time()-start)\n",
    "\n",
    "np.mean(execution_times)"
   ],
   "metadata": {
    "colab": {
     "base_uri": "https://localhost:8080/"
    },
    "id": "fJOJ1bi4nImI",
    "outputId": "53bdae7c-c426-4729-a49a-e0a3c09012bd"
   },
   "execution_count": 32,
   "outputs": [
    {
     "output_type": "execute_result",
     "data": {
      "text/plain": [
       "0.000987532138824463"
      ]
     },
     "metadata": {},
     "execution_count": 32
    }
   ]
  },
  {
   "cell_type": "code",
   "source": [
    "# next, let's compute C and D sequentially\n",
    "\n",
    "execution_times = []\n",
    "\n",
    "for _ in range(100):\n",
    "    start = time()\n",
    "    C = torch.mm(A, A)\n",
    "    D = torch.mm(B, B)\n",
    "    # Wait for C and D to be computed.\n",
    "    torch.cuda.synchronize()\n",
    "    execution_times.append(time()-start)\n",
    "\n",
    "np.mean(execution_times)\n",
    "# the speed is even higher in this case"
   ],
   "metadata": {
    "colab": {
     "base_uri": "https://localhost:8080/"
    },
    "id": "RRw1SQ9hmNiW",
    "outputId": "35df422f-2b2d-413b-ed87-c6fd400f4b88"
   },
   "execution_count": 33,
   "outputs": [
    {
     "output_type": "execute_result",
     "data": {
      "text/plain": [
       "0.0010198211669921874"
      ]
     },
     "metadata": {},
     "execution_count": 33
    }
   ]
  },
  {
   "cell_type": "markdown",
   "source": [
    "## Debugging asynchronous code\n",
    "Finding sources of errors in GPU-reliant code in PyTorch can also be difficult. Let's see this on a standard example of an off-by-one error and incorrect index for the embedding layer:"
   ],
   "metadata": {
    "id": "TC5UISMiSAfs"
   }
  },
  {
   "cell_type": "code",
   "source": [
    "%%writefile incorrect_index.py\n",
    "import torch\n",
    "import torch.nn as nn\n",
    "\n",
    "embedding = nn.Embedding(1024,32).to('cuda')\n",
    "# 1024 > 1023 (largest index in the created embedding layer)\n",
    "input = torch.full((1,1),1024,dtype=torch.long, device='cuda')\n",
    "\n",
    "# out-of-bounds access\n",
    "embedding_for_index = embedding(input)\n",
    "\n",
    "result = torch.sigmoid(embedding_for_index)\n",
    "loss = result.sum()\n",
    "print(loss.item())"
   ],
   "metadata": {
    "colab": {
     "base_uri": "https://localhost:8080/"
    },
    "id": "75YMFmOdzhAw",
    "outputId": "fa3bf8e7-28e8-494e-c5b8-91989abff99c"
   },
   "execution_count": 34,
   "outputs": [
    {
     "output_type": "stream",
     "name": "stdout",
     "text": [
      "Overwriting incorrect_index.py\n"
     ]
    }
   ]
  },
  {
   "cell_type": "markdown",
   "source": [
    "If we attempt to run the code as is, we'll see an error at the point in which we trigger the CPU-GPU synchronization (`loss.item`). This gives us no clues about what exactly caused an error:"
   ],
   "metadata": {
    "id": "dxMcIkDmYBFn"
   }
  },
  {
   "cell_type": "code",
   "source": [
    "!python incorrect_index.py"
   ],
   "metadata": {
    "colab": {
     "base_uri": "https://localhost:8080/"
    },
    "id": "whEGTI1-VVQ6",
    "outputId": "0a68bbce-45bf-423e-90c6-b028f558246d"
   },
   "execution_count": 35,
   "outputs": [
    {
     "output_type": "stream",
     "name": "stdout",
     "text": [
      "/pytorch/aten/src/ATen/native/cuda/Indexing.cu:646: indexSelectSmallIndex: block: [0,0,0], thread: [0,0,0] Assertion `srcIndex < srcSelectDimSize` failed.\n",
      "/pytorch/aten/src/ATen/native/cuda/Indexing.cu:646: indexSelectSmallIndex: block: [0,0,0], thread: [1,0,0] Assertion `srcIndex < srcSelectDimSize` failed.\n",
      "/pytorch/aten/src/ATen/native/cuda/Indexing.cu:646: indexSelectSmallIndex: block: [0,0,0], thread: [2,0,0] Assertion `srcIndex < srcSelectDimSize` failed.\n",
      "/pytorch/aten/src/ATen/native/cuda/Indexing.cu:646: indexSelectSmallIndex: block: [0,0,0], thread: [3,0,0] Assertion `srcIndex < srcSelectDimSize` failed.\n",
      "/pytorch/aten/src/ATen/native/cuda/Indexing.cu:646: indexSelectSmallIndex: block: [0,0,0], thread: [4,0,0] Assertion `srcIndex < srcSelectDimSize` failed.\n",
      "/pytorch/aten/src/ATen/native/cuda/Indexing.cu:646: indexSelectSmallIndex: block: [0,0,0], thread: [5,0,0] Assertion `srcIndex < srcSelectDimSize` failed.\n",
      "/pytorch/aten/src/ATen/native/cuda/Indexing.cu:646: indexSelectSmallIndex: block: [0,0,0], thread: [6,0,0] Assertion `srcIndex < srcSelectDimSize` failed.\n",
      "/pytorch/aten/src/ATen/native/cuda/Indexing.cu:646: indexSelectSmallIndex: block: [0,0,0], thread: [7,0,0] Assertion `srcIndex < srcSelectDimSize` failed.\n",
      "/pytorch/aten/src/ATen/native/cuda/Indexing.cu:646: indexSelectSmallIndex: block: [0,0,0], thread: [8,0,0] Assertion `srcIndex < srcSelectDimSize` failed.\n",
      "/pytorch/aten/src/ATen/native/cuda/Indexing.cu:646: indexSelectSmallIndex: block: [0,0,0], thread: [9,0,0] Assertion `srcIndex < srcSelectDimSize` failed.\n",
      "/pytorch/aten/src/ATen/native/cuda/Indexing.cu:646: indexSelectSmallIndex: block: [0,0,0], thread: [10,0,0] Assertion `srcIndex < srcSelectDimSize` failed.\n",
      "/pytorch/aten/src/ATen/native/cuda/Indexing.cu:646: indexSelectSmallIndex: block: [0,0,0], thread: [11,0,0] Assertion `srcIndex < srcSelectDimSize` failed.\n",
      "/pytorch/aten/src/ATen/native/cuda/Indexing.cu:646: indexSelectSmallIndex: block: [0,0,0], thread: [12,0,0] Assertion `srcIndex < srcSelectDimSize` failed.\n",
      "/pytorch/aten/src/ATen/native/cuda/Indexing.cu:646: indexSelectSmallIndex: block: [0,0,0], thread: [13,0,0] Assertion `srcIndex < srcSelectDimSize` failed.\n",
      "/pytorch/aten/src/ATen/native/cuda/Indexing.cu:646: indexSelectSmallIndex: block: [0,0,0], thread: [14,0,0] Assertion `srcIndex < srcSelectDimSize` failed.\n",
      "/pytorch/aten/src/ATen/native/cuda/Indexing.cu:646: indexSelectSmallIndex: block: [0,0,0], thread: [15,0,0] Assertion `srcIndex < srcSelectDimSize` failed.\n",
      "/pytorch/aten/src/ATen/native/cuda/Indexing.cu:646: indexSelectSmallIndex: block: [0,0,0], thread: [16,0,0] Assertion `srcIndex < srcSelectDimSize` failed.\n",
      "/pytorch/aten/src/ATen/native/cuda/Indexing.cu:646: indexSelectSmallIndex: block: [0,0,0], thread: [17,0,0] Assertion `srcIndex < srcSelectDimSize` failed.\n",
      "/pytorch/aten/src/ATen/native/cuda/Indexing.cu:646: indexSelectSmallIndex: block: [0,0,0], thread: [18,0,0] Assertion `srcIndex < srcSelectDimSize` failed.\n",
      "/pytorch/aten/src/ATen/native/cuda/Indexing.cu:646: indexSelectSmallIndex: block: [0,0,0], thread: [19,0,0] Assertion `srcIndex < srcSelectDimSize` failed.\n",
      "/pytorch/aten/src/ATen/native/cuda/Indexing.cu:646: indexSelectSmallIndex: block: [0,0,0], thread: [20,0,0] Assertion `srcIndex < srcSelectDimSize` failed.\n",
      "/pytorch/aten/src/ATen/native/cuda/Indexing.cu:646: indexSelectSmallIndex: block: [0,0,0], thread: [21,0,0] Assertion `srcIndex < srcSelectDimSize` failed.\n",
      "/pytorch/aten/src/ATen/native/cuda/Indexing.cu:646: indexSelectSmallIndex: block: [0,0,0], thread: [22,0,0] Assertion `srcIndex < srcSelectDimSize` failed.\n",
      "/pytorch/aten/src/ATen/native/cuda/Indexing.cu:646: indexSelectSmallIndex: block: [0,0,0], thread: [23,0,0] Assertion `srcIndex < srcSelectDimSize` failed.\n",
      "/pytorch/aten/src/ATen/native/cuda/Indexing.cu:646: indexSelectSmallIndex: block: [0,0,0], thread: [24,0,0] Assertion `srcIndex < srcSelectDimSize` failed.\n",
      "/pytorch/aten/src/ATen/native/cuda/Indexing.cu:646: indexSelectSmallIndex: block: [0,0,0], thread: [25,0,0] Assertion `srcIndex < srcSelectDimSize` failed.\n",
      "/pytorch/aten/src/ATen/native/cuda/Indexing.cu:646: indexSelectSmallIndex: block: [0,0,0], thread: [26,0,0] Assertion `srcIndex < srcSelectDimSize` failed.\n",
      "/pytorch/aten/src/ATen/native/cuda/Indexing.cu:646: indexSelectSmallIndex: block: [0,0,0], thread: [27,0,0] Assertion `srcIndex < srcSelectDimSize` failed.\n",
      "/pytorch/aten/src/ATen/native/cuda/Indexing.cu:646: indexSelectSmallIndex: block: [0,0,0], thread: [28,0,0] Assertion `srcIndex < srcSelectDimSize` failed.\n",
      "/pytorch/aten/src/ATen/native/cuda/Indexing.cu:646: indexSelectSmallIndex: block: [0,0,0], thread: [29,0,0] Assertion `srcIndex < srcSelectDimSize` failed.\n",
      "/pytorch/aten/src/ATen/native/cuda/Indexing.cu:646: indexSelectSmallIndex: block: [0,0,0], thread: [30,0,0] Assertion `srcIndex < srcSelectDimSize` failed.\n",
      "/pytorch/aten/src/ATen/native/cuda/Indexing.cu:646: indexSelectSmallIndex: block: [0,0,0], thread: [31,0,0] Assertion `srcIndex < srcSelectDimSize` failed.\n",
      "Traceback (most recent call last):\n",
      "  File \"incorrect_index.py\", line 13, in <module>\n",
      "    print(loss.item())\n",
      "RuntimeError: CUDA error: device-side assert triggered\n",
      "CUDA kernel errors might be asynchronously reported at some other API call,so the stacktrace below might be incorrect.\n",
      "For debugging consider passing CUDA_LAUNCH_BLOCKING=1.\n"
     ]
    }
   ]
  },
  {
   "cell_type": "markdown",
   "source": [
    "(though an experienced person might get a hint from the C++ failed assertions printed before the error)\n",
    "\n",
    "There are two ways to find the actual line that caused an exception:\n",
    "\n",
    "* First, you can just move everything to CPU. This is a valid approach, but it involves making changes to your code or input arguments and sometimes can be difficult (for example, if the error occurs after a long chain of operations).\n",
    "\n",
    "* Second, you may use the `CUDA_LAUNCH_BLOCKING` environment variable when starting your code. This will force synchronization for all GPU-related operations, making your code slower but allowing to see the exact source of the error."
   ],
   "metadata": {
    "id": "SK-kBXycW0c-"
   }
  },
  {
   "cell_type": "code",
   "source": [
    "!CUDA_LAUNCH_BLOCKING=1 python incorrect_index.py"
   ],
   "metadata": {
    "colab": {
     "base_uri": "https://localhost:8080/"
    },
    "id": "HF8lRP3_0XY0",
    "outputId": "751873b1-622c-4af5-cdde-6daf7e2b306e"
   },
   "execution_count": 36,
   "outputs": [
    {
     "output_type": "stream",
     "name": "stdout",
     "text": [
      "/pytorch/aten/src/ATen/native/cuda/Indexing.cu:646: indexSelectSmallIndex: block: [0,0,0], thread: [0,0,0] Assertion `srcIndex < srcSelectDimSize` failed.\n",
      "/pytorch/aten/src/ATen/native/cuda/Indexing.cu:646: indexSelectSmallIndex: block: [0,0,0], thread: [1,0,0] Assertion `srcIndex < srcSelectDimSize` failed.\n",
      "/pytorch/aten/src/ATen/native/cuda/Indexing.cu:646: indexSelectSmallIndex: block: [0,0,0], thread: [2,0,0] Assertion `srcIndex < srcSelectDimSize` failed.\n",
      "/pytorch/aten/src/ATen/native/cuda/Indexing.cu:646: indexSelectSmallIndex: block: [0,0,0], thread: [3,0,0] Assertion `srcIndex < srcSelectDimSize` failed.\n",
      "/pytorch/aten/src/ATen/native/cuda/Indexing.cu:646: indexSelectSmallIndex: block: [0,0,0], thread: [4,0,0] Assertion `srcIndex < srcSelectDimSize` failed.\n",
      "/pytorch/aten/src/ATen/native/cuda/Indexing.cu:646: indexSelectSmallIndex: block: [0,0,0], thread: [5,0,0] Assertion `srcIndex < srcSelectDimSize` failed.\n",
      "/pytorch/aten/src/ATen/native/cuda/Indexing.cu:646: indexSelectSmallIndex: block: [0,0,0], thread: [6,0,0] Assertion `srcIndex < srcSelectDimSize` failed.\n",
      "/pytorch/aten/src/ATen/native/cuda/Indexing.cu:646: indexSelectSmallIndex: block: [0,0,0], thread: [7,0,0] Assertion `srcIndex < srcSelectDimSize` failed.\n",
      "/pytorch/aten/src/ATen/native/cuda/Indexing.cu:646: indexSelectSmallIndex: block: [0,0,0], thread: [8,0,0] Assertion `srcIndex < srcSelectDimSize` failed.\n",
      "/pytorch/aten/src/ATen/native/cuda/Indexing.cu:646: indexSelectSmallIndex: block: [0,0,0], thread: [9,0,0] Assertion `srcIndex < srcSelectDimSize` failed.\n",
      "/pytorch/aten/src/ATen/native/cuda/Indexing.cu:646: indexSelectSmallIndex: block: [0,0,0], thread: [10,0,0] Assertion `srcIndex < srcSelectDimSize` failed.\n",
      "/pytorch/aten/src/ATen/native/cuda/Indexing.cu:646: indexSelectSmallIndex: block: [0,0,0], thread: [11,0,0] Assertion `srcIndex < srcSelectDimSize` failed.\n",
      "/pytorch/aten/src/ATen/native/cuda/Indexing.cu:646: indexSelectSmallIndex: block: [0,0,0], thread: [12,0,0] Assertion `srcIndex < srcSelectDimSize` failed.\n",
      "/pytorch/aten/src/ATen/native/cuda/Indexing.cu:646: indexSelectSmallIndex: block: [0,0,0], thread: [13,0,0] Assertion `srcIndex < srcSelectDimSize` failed.\n",
      "/pytorch/aten/src/ATen/native/cuda/Indexing.cu:646: indexSelectSmallIndex: block: [0,0,0], thread: [14,0,0] Assertion `srcIndex < srcSelectDimSize` failed.\n",
      "/pytorch/aten/src/ATen/native/cuda/Indexing.cu:646: indexSelectSmallIndex: block: [0,0,0], thread: [15,0,0] Assertion `srcIndex < srcSelectDimSize` failed.\n",
      "/pytorch/aten/src/ATen/native/cuda/Indexing.cu:646: indexSelectSmallIndex: block: [0,0,0], thread: [16,0,0] Assertion `srcIndex < srcSelectDimSize` failed.\n",
      "/pytorch/aten/src/ATen/native/cuda/Indexing.cu:646: indexSelectSmallIndex: block: [0,0,0], thread: [17,0,0] Assertion `srcIndex < srcSelectDimSize` failed.\n",
      "/pytorch/aten/src/ATen/native/cuda/Indexing.cu:646: indexSelectSmallIndex: block: [0,0,0], thread: [18,0,0] Assertion `srcIndex < srcSelectDimSize` failed.\n",
      "/pytorch/aten/src/ATen/native/cuda/Indexing.cu:646: indexSelectSmallIndex: block: [0,0,0], thread: [19,0,0] Assertion `srcIndex < srcSelectDimSize` failed.\n",
      "/pytorch/aten/src/ATen/native/cuda/Indexing.cu:646: indexSelectSmallIndex: block: [0,0,0], thread: [20,0,0] Assertion `srcIndex < srcSelectDimSize` failed.\n",
      "/pytorch/aten/src/ATen/native/cuda/Indexing.cu:646: indexSelectSmallIndex: block: [0,0,0], thread: [21,0,0] Assertion `srcIndex < srcSelectDimSize` failed.\n",
      "/pytorch/aten/src/ATen/native/cuda/Indexing.cu:646: indexSelectSmallIndex: block: [0,0,0], thread: [22,0,0] Assertion `srcIndex < srcSelectDimSize` failed.\n",
      "/pytorch/aten/src/ATen/native/cuda/Indexing.cu:646: indexSelectSmallIndex: block: [0,0,0], thread: [23,0,0] Assertion `srcIndex < srcSelectDimSize` failed.\n",
      "/pytorch/aten/src/ATen/native/cuda/Indexing.cu:646: indexSelectSmallIndex: block: [0,0,0], thread: [24,0,0] Assertion `srcIndex < srcSelectDimSize` failed.\n",
      "/pytorch/aten/src/ATen/native/cuda/Indexing.cu:646: indexSelectSmallIndex: block: [0,0,0], thread: [25,0,0] Assertion `srcIndex < srcSelectDimSize` failed.\n",
      "/pytorch/aten/src/ATen/native/cuda/Indexing.cu:646: indexSelectSmallIndex: block: [0,0,0], thread: [26,0,0] Assertion `srcIndex < srcSelectDimSize` failed.\n",
      "/pytorch/aten/src/ATen/native/cuda/Indexing.cu:646: indexSelectSmallIndex: block: [0,0,0], thread: [27,0,0] Assertion `srcIndex < srcSelectDimSize` failed.\n",
      "/pytorch/aten/src/ATen/native/cuda/Indexing.cu:646: indexSelectSmallIndex: block: [0,0,0], thread: [28,0,0] Assertion `srcIndex < srcSelectDimSize` failed.\n",
      "/pytorch/aten/src/ATen/native/cuda/Indexing.cu:646: indexSelectSmallIndex: block: [0,0,0], thread: [29,0,0] Assertion `srcIndex < srcSelectDimSize` failed.\n",
      "/pytorch/aten/src/ATen/native/cuda/Indexing.cu:646: indexSelectSmallIndex: block: [0,0,0], thread: [30,0,0] Assertion `srcIndex < srcSelectDimSize` failed.\n",
      "/pytorch/aten/src/ATen/native/cuda/Indexing.cu:646: indexSelectSmallIndex: block: [0,0,0], thread: [31,0,0] Assertion `srcIndex < srcSelectDimSize` failed.\n",
      "Traceback (most recent call last):\n",
      "  File \"incorrect_index.py\", line 9, in <module>\n",
      "    embedding_for_index = embedding(input)\n",
      "  File \"/usr/local/lib/python3.7/dist-packages/torch/nn/modules/module.py\", line 1102, in _call_impl\n",
      "    return forward_call(*input, **kwargs)\n",
      "  File \"/usr/local/lib/python3.7/dist-packages/torch/nn/modules/sparse.py\", line 160, in forward\n",
      "    self.norm_type, self.scale_grad_by_freq, self.sparse)\n",
      "  File \"/usr/local/lib/python3.7/dist-packages/torch/nn/functional.py\", line 2044, in embedding\n",
      "    return torch.embedding(weight, input, padding_idx, scale_grad_by_freq, sparse)\n",
      "RuntimeError: CUDA error: device-side assert triggered\n"
     ]
    }
   ]
  },
  {
   "cell_type": "markdown",
   "source": [
    "## Precision of floating point operations\n",
    "Let's have a look at this code snippet and its results. In essence, it computes the sixth power of a random matrix (with a fixed seed) on two different devices."
   ],
   "metadata": {
    "id": "zFDw7mEe0xe1"
   }
  },
  {
   "cell_type": "code",
   "source": [
    "torch.manual_seed(1337)\n",
    "x = torch.randn(5000, 5000)\n",
    "\n",
    "def matrix_power(x):\n",
    "  y = x @ x @ x @ x @ x @ x\n",
    "  return (y).sum().item()\n",
    "\n",
    "print(matrix_power(x))\n",
    "print(matrix_power(x.cuda()))"
   ],
   "metadata": {
    "colab": {
     "base_uri": "https://localhost:8080/"
    },
    "id": "rNzil3C50_yX",
    "outputId": "d76509d9-591a-459e-8847-ad4740b48470"
   },
   "execution_count": 37,
   "outputs": [
    {
     "output_type": "stream",
     "name": "stdout",
     "text": [
      "27654770130944.0\n",
      "27654807879680.0\n"
     ]
    }
   ]
  },
  {
   "cell_type": "markdown",
   "source": [
    "(in case you are wondering, `torch.use_deterministic_algorithms(True)` won't help)\n",
    "\n",
    "If we do the same using numpy (in two ways), we also get a different result:"
   ],
   "metadata": {
    "id": "sCl7Jn5Q6gm_"
   }
  },
  {
   "cell_type": "code",
   "source": [
    "print(matrix_power(x.numpy()))\n",
    "np.linalg.matrix_power(x.numpy(),6).sum()"
   ],
   "metadata": {
    "id": "DDNNwEX72_Bp",
    "colab": {
     "base_uri": "https://localhost:8080/"
    },
    "outputId": "68d6dd5e-00c2-40fe-cb59-91161bccdafe"
   },
   "execution_count": 38,
   "outputs": [
    {
     "output_type": "stream",
     "name": "stdout",
     "text": [
      "27654791102464.0\n"
     ]
    },
    {
     "output_type": "execute_result",
     "data": {
      "text/plain": [
       "27654774000000.0"
      ]
     },
     "metadata": {},
     "execution_count": 38
    }
   ]
  },
  {
   "cell_type": "markdown",
   "source": [
    "Takeaway: numerical precision of floating point computations can vary between libraries, environments and devices, and from the user side, it is often hard to resolve this issue altogether. Usually, this happens due to a different summation order in code or due to inherent nondeterminism of hardware. \n",
    "\n",
    "However, note that the relative error is small enough, which makes such blatant discrepancies less of a problem in regular deep learning code."
   ],
   "metadata": {
    "id": "mgGAaBl16uka"
   }
  },
  {
   "cell_type": "code",
   "source": [
    ""
   ],
   "metadata": {
    "id": "WGXtRv9aZKbr"
   },
   "execution_count": 38,
   "outputs": []
  }
 ]
}