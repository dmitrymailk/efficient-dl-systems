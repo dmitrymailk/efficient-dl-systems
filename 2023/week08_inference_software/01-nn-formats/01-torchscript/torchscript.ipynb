{
 "cells": [
  {
   "cell_type": "code",
   "execution_count": 1,
   "id": "973822d8",
   "metadata": {},
   "outputs": [
    {
     "name": "stderr",
     "output_type": "stream",
     "text": [
      "/Users/AlexHome/vms/effdl-inference/07-software-inference/venv/lib/python3.9/site-packages/tqdm/auto.py:21: TqdmWarning: IProgress not found. Please update jupyter and ipywidgets. See https://ipywidgets.readthedocs.io/en/stable/user_install.html\n",
      "  from .autonotebook import tqdm as notebook_tqdm\n"
     ]
    }
   ],
   "source": [
    "import torch\n",
    "import torchvision\n",
    "import torchvision.models as models\n",
    "\n",
    "vgg16 = models.vgg16(pretrained=True)"
   ]
  },
  {
   "cell_type": "markdown",
   "id": "ba2c77a0",
   "metadata": {},
   "source": [
    "## Tracing & Scripting"
   ]
  },
  {
   "cell_type": "code",
   "execution_count": 3,
   "id": "d1939c83",
   "metadata": {},
   "outputs": [],
   "source": [
    "def polino(x):\n",
    "    return x**2 + 1"
   ]
  },
  {
   "cell_type": "code",
   "execution_count": 4,
   "id": "cfa5fe86",
   "metadata": {},
   "outputs": [],
   "source": [
    "def abs_value(x):\n",
    "    if x.max() >= 0:\n",
    "        return x\n",
    "    else:\n",
    "        return -x"
   ]
  },
  {
   "cell_type": "code",
   "execution_count": 5,
   "id": "05a3a04a",
   "metadata": {},
   "outputs": [
    {
     "data": {
      "text/plain": [
       "(tensor(1), tensor(1))"
      ]
     },
     "execution_count": 5,
     "metadata": {},
     "output_type": "execute_result"
    }
   ],
   "source": [
    "abs_value(torch.tensor(1)), abs_value(torch.tensor(-1))"
   ]
  },
  {
   "cell_type": "code",
   "execution_count": 6,
   "id": "5c574b8d",
   "metadata": {},
   "outputs": [
    {
     "data": {
      "text/plain": [
       "tensor(10)"
      ]
     },
     "execution_count": 6,
     "metadata": {},
     "output_type": "execute_result"
    }
   ],
   "source": [
    "polino(torch.tensor(3))"
   ]
  },
  {
   "cell_type": "code",
   "execution_count": 7,
   "id": "1d551c6a",
   "metadata": {},
   "outputs": [
    {
     "name": "stderr",
     "output_type": "stream",
     "text": [
      "/var/folders/kn/tl5j9yqn33zfgmzx9gxr8mtc0000gq/T/ipykernel_43849/2282889346.py:2: TracerWarning: Converting a tensor to a Python boolean might cause the trace to be incorrect. We can't record the data flow of Python values, so this value will be treated as a constant in the future. This means that the trace might not generalize to other inputs!\n",
      "  if x.max() >= 0:\n"
     ]
    }
   ],
   "source": [
    "abs_traced = torch.jit.trace(abs_value, torch.tensor(-1))"
   ]
  },
  {
   "cell_type": "code",
   "execution_count": 8,
   "id": "62b85251",
   "metadata": {},
   "outputs": [],
   "source": [
    "polino_traced = torch.jit.trace(polino, torch.tensor(0))"
   ]
  },
  {
   "cell_type": "code",
   "execution_count": 9,
   "id": "245916aa",
   "metadata": {},
   "outputs": [
    {
     "data": {
      "text/plain": [
       "<torch.jit.ScriptFunction at 0x1070bf220>"
      ]
     },
     "execution_count": 9,
     "metadata": {},
     "output_type": "execute_result"
    }
   ],
   "source": [
    "polino_traced"
   ]
  },
  {
   "cell_type": "code",
   "execution_count": 11,
   "id": "d4d97cbc",
   "metadata": {},
   "outputs": [
    {
     "data": {
      "text/plain": [
       "tensor(10)"
      ]
     },
     "execution_count": 11,
     "metadata": {},
     "output_type": "execute_result"
    }
   ],
   "source": [
    "polino_traced(torch.tensor(3))"
   ]
  },
  {
   "cell_type": "code",
   "execution_count": 10,
   "id": "fa143cd2",
   "metadata": {},
   "outputs": [
    {
     "data": {
      "text/plain": [
       "3"
      ]
     },
     "execution_count": 10,
     "metadata": {},
     "output_type": "execute_result"
    }
   ],
   "source": [
    "torch.tensor(3).item()"
   ]
  },
  {
   "cell_type": "code",
   "execution_count": 12,
   "id": "00f93f07",
   "metadata": {},
   "outputs": [
    {
     "name": "stdout",
     "output_type": "stream",
     "text": [
      "tensor(-1) tensor(1)\n"
     ]
    }
   ],
   "source": [
    "print(abs_traced(torch.tensor(1)), abs_traced(torch.tensor(-1)))"
   ]
  },
  {
   "cell_type": "code",
   "execution_count": 14,
   "id": "782a1c95",
   "metadata": {},
   "outputs": [],
   "source": [
    "def gather(x):\n",
    "    result = []\n",
    "    for i in range(3):\n",
    "        result.append(1)\n",
    "    return torch.tensor(result)"
   ]
  },
  {
   "cell_type": "code",
   "execution_count": 15,
   "id": "8a68a3fc",
   "metadata": {},
   "outputs": [
    {
     "data": {
      "text/plain": [
       "tensor([1, 1, 1])"
      ]
     },
     "execution_count": 15,
     "metadata": {},
     "output_type": "execute_result"
    }
   ],
   "source": [
    "gather(torch.tensor(6))"
   ]
  },
  {
   "cell_type": "code",
   "execution_count": 16,
   "id": "337139a0",
   "metadata": {},
   "outputs": [
    {
     "name": "stderr",
     "output_type": "stream",
     "text": [
      "/var/folders/kn/tl5j9yqn33zfgmzx9gxr8mtc0000gq/T/ipykernel_43849/2080233534.py:5: TracerWarning: torch.tensor results are registered as constants in the trace. You can safely ignore this warning if you use this function to create tensors out of constant variables that would be the same every time you call this function. In any other case, this might cause the trace to be incorrect.\n",
      "  return torch.tensor(result)\n"
     ]
    },
    {
     "data": {
      "text/plain": [
       "<torch.jit.ScriptFunction at 0x1070e0360>"
      ]
     },
     "execution_count": 16,
     "metadata": {},
     "output_type": "execute_result"
    }
   ],
   "source": [
    "torch.jit.trace(gather, torch.tensor(2))"
   ]
  },
  {
   "cell_type": "code",
   "execution_count": 17,
   "id": "0c66c36f",
   "metadata": {},
   "outputs": [
    {
     "ename": "RuntimeError",
     "evalue": "\n\naten::append.t(t[](a!) self, t(c -> *) el) -> (t[](a!)):\nCould not match type int to t in argument 'el': Type variable 't' previously matched to type Tensor is matched to type int.\n:\n  File \"/var/folders/kn/tl5j9yqn33zfgmzx9gxr8mtc0000gq/T/ipykernel_43849/2080233534.py\", line 4\n    result = []\n    for i in range(3):\n        result.append(1)\n        ~~~~~~~~~~~~~ <--- HERE\n    return torch.tensor(result)\n",
     "output_type": "error",
     "traceback": [
      "\u001b[0;31m---------------------------------------------------------------------------\u001b[0m",
      "\u001b[0;31mRuntimeError\u001b[0m                              Traceback (most recent call last)",
      "Cell \u001b[0;32mIn[17], line 1\u001b[0m\n\u001b[0;32m----> 1\u001b[0m gather_sc \u001b[38;5;241m=\u001b[39m \u001b[43mtorch\u001b[49m\u001b[38;5;241;43m.\u001b[39;49m\u001b[43mjit\u001b[49m\u001b[38;5;241;43m.\u001b[39;49m\u001b[43mscript\u001b[49m\u001b[43m(\u001b[49m\u001b[43mgather\u001b[49m\u001b[43m)\u001b[49m\n",
      "File \u001b[0;32m~/vms/effdl-inference/07-software-inference/venv/lib/python3.9/site-packages/torch/jit/_script.py:1310\u001b[0m, in \u001b[0;36mscript\u001b[0;34m(obj, optimize, _frames_up, _rcb, example_inputs)\u001b[0m\n\u001b[1;32m   1308\u001b[0m \u001b[38;5;28;01mif\u001b[39;00m _rcb \u001b[38;5;129;01mis\u001b[39;00m \u001b[38;5;28;01mNone\u001b[39;00m:\n\u001b[1;32m   1309\u001b[0m     _rcb \u001b[38;5;241m=\u001b[39m _jit_internal\u001b[38;5;241m.\u001b[39mcreateResolutionCallbackFromClosure(obj)\n\u001b[0;32m-> 1310\u001b[0m fn \u001b[38;5;241m=\u001b[39m \u001b[43mtorch\u001b[49m\u001b[38;5;241;43m.\u001b[39;49m\u001b[43m_C\u001b[49m\u001b[38;5;241;43m.\u001b[39;49m\u001b[43m_jit_script_compile\u001b[49m\u001b[43m(\u001b[49m\n\u001b[1;32m   1311\u001b[0m \u001b[43m    \u001b[49m\u001b[43mqualified_name\u001b[49m\u001b[43m,\u001b[49m\u001b[43m \u001b[49m\u001b[43mast\u001b[49m\u001b[43m,\u001b[49m\u001b[43m \u001b[49m\u001b[43m_rcb\u001b[49m\u001b[43m,\u001b[49m\u001b[43m \u001b[49m\u001b[43mget_default_args\u001b[49m\u001b[43m(\u001b[49m\u001b[43mobj\u001b[49m\u001b[43m)\u001b[49m\n\u001b[1;32m   1312\u001b[0m \u001b[43m\u001b[49m\u001b[43m)\u001b[49m\n\u001b[1;32m   1313\u001b[0m \u001b[38;5;66;03m# Forward docstrings\u001b[39;00m\n\u001b[1;32m   1314\u001b[0m fn\u001b[38;5;241m.\u001b[39m\u001b[38;5;18m__doc__\u001b[39m \u001b[38;5;241m=\u001b[39m obj\u001b[38;5;241m.\u001b[39m\u001b[38;5;18m__doc__\u001b[39m\n",
      "\u001b[0;31mRuntimeError\u001b[0m: \n\naten::append.t(t[](a!) self, t(c -> *) el) -> (t[](a!)):\nCould not match type int to t in argument 'el': Type variable 't' previously matched to type Tensor is matched to type int.\n:\n  File \"/var/folders/kn/tl5j9yqn33zfgmzx9gxr8mtc0000gq/T/ipykernel_43849/2080233534.py\", line 4\n    result = []\n    for i in range(3):\n        result.append(1)\n        ~~~~~~~~~~~~~ <--- HERE\n    return torch.tensor(result)\n"
     ]
    }
   ],
   "source": [
    "gather_sc = torch.jit.script(gather)"
   ]
  },
  {
   "cell_type": "code",
   "execution_count": 18,
   "id": "4b79eed0",
   "metadata": {},
   "outputs": [],
   "source": [
    "abs_script = torch.jit.script(abs_value)"
   ]
  },
  {
   "cell_type": "code",
   "execution_count": 19,
   "id": "b571257e",
   "metadata": {},
   "outputs": [
    {
     "name": "stdout",
     "output_type": "stream",
     "text": [
      "tensor(1) tensor(1)\n"
     ]
    }
   ],
   "source": [
    "print(abs_script(torch.tensor(1)), abs_script(torch.tensor(-1)))"
   ]
  },
  {
   "cell_type": "code",
   "execution_count": 20,
   "id": "deabf679",
   "metadata": {},
   "outputs": [],
   "source": [
    "def gather(x):\n",
    "    result: List[int] = []\n",
    "    for i in range(3):\n",
    "        result.append(1)\n",
    "    return torch.tensor(result)"
   ]
  },
  {
   "cell_type": "code",
   "execution_count": 22,
   "id": "3c796bad",
   "metadata": {},
   "outputs": [],
   "source": [
    "gather_sc = torch.jit.script(gather)"
   ]
  },
  {
   "cell_type": "code",
   "execution_count": 23,
   "id": "75de96b3",
   "metadata": {},
   "outputs": [
    {
     "data": {
      "text/plain": [
       "tensor([1, 1, 1])"
      ]
     },
     "execution_count": 23,
     "metadata": {},
     "output_type": "execute_result"
    }
   ],
   "source": [
    "gather_sc(torch.tensor(2))"
   ]
  },
  {
   "cell_type": "code",
   "execution_count": 24,
   "id": "724a683e",
   "metadata": {},
   "outputs": [
    {
     "name": "stderr",
     "output_type": "stream",
     "text": [
      "/Users/AlexHome/vms/effdl-inference/07-software-inference/venv/lib/python3.9/site-packages/torch/jit/_trace.py:983: TracerWarning: Output nr 1. of the traced function does not match the corresponding output of the Python function. Detailed error:\n",
      "Tensor-likes are not close!\n",
      "\n",
      "Mismatched elements: 1000 / 1000 (100.0%)\n",
      "Greatest absolute difference: 2.904168963432312 at index (0, 528) (up to 1e-05 allowed)\n",
      "Greatest relative difference: 657.130832387617 at index (0, 146) (up to 1e-05 allowed)\n",
      "  _check_trace(\n"
     ]
    }
   ],
   "source": [
    "example = torch.rand(1, 3, 224, 224)\n",
    "traced_script_module = torch.jit.trace(vgg16, example)\n",
    "traced_script_module.save(\"vgg16.pt\")"
   ]
  },
  {
   "cell_type": "code",
   "execution_count": 25,
   "id": "ba0835cf",
   "metadata": {},
   "outputs": [
    {
     "data": {
      "text/plain": [
       "VGG(\n",
       "  original_name=VGG\n",
       "  (features): Sequential(\n",
       "    original_name=Sequential\n",
       "    (0): Conv2d(original_name=Conv2d)\n",
       "    (1): ReLU(original_name=ReLU)\n",
       "    (2): Conv2d(original_name=Conv2d)\n",
       "    (3): ReLU(original_name=ReLU)\n",
       "    (4): MaxPool2d(original_name=MaxPool2d)\n",
       "    (5): Conv2d(original_name=Conv2d)\n",
       "    (6): ReLU(original_name=ReLU)\n",
       "    (7): Conv2d(original_name=Conv2d)\n",
       "    (8): ReLU(original_name=ReLU)\n",
       "    (9): MaxPool2d(original_name=MaxPool2d)\n",
       "    (10): Conv2d(original_name=Conv2d)\n",
       "    (11): ReLU(original_name=ReLU)\n",
       "    (12): Conv2d(original_name=Conv2d)\n",
       "    (13): ReLU(original_name=ReLU)\n",
       "    (14): Conv2d(original_name=Conv2d)\n",
       "    (15): ReLU(original_name=ReLU)\n",
       "    (16): MaxPool2d(original_name=MaxPool2d)\n",
       "    (17): Conv2d(original_name=Conv2d)\n",
       "    (18): ReLU(original_name=ReLU)\n",
       "    (19): Conv2d(original_name=Conv2d)\n",
       "    (20): ReLU(original_name=ReLU)\n",
       "    (21): Conv2d(original_name=Conv2d)\n",
       "    (22): ReLU(original_name=ReLU)\n",
       "    (23): MaxPool2d(original_name=MaxPool2d)\n",
       "    (24): Conv2d(original_name=Conv2d)\n",
       "    (25): ReLU(original_name=ReLU)\n",
       "    (26): Conv2d(original_name=Conv2d)\n",
       "    (27): ReLU(original_name=ReLU)\n",
       "    (28): Conv2d(original_name=Conv2d)\n",
       "    (29): ReLU(original_name=ReLU)\n",
       "    (30): MaxPool2d(original_name=MaxPool2d)\n",
       "  )\n",
       "  (avgpool): AdaptiveAvgPool2d(original_name=AdaptiveAvgPool2d)\n",
       "  (classifier): Sequential(\n",
       "    original_name=Sequential\n",
       "    (0): Linear(original_name=Linear)\n",
       "    (1): ReLU(original_name=ReLU)\n",
       "    (2): Dropout(original_name=Dropout)\n",
       "    (3): Linear(original_name=Linear)\n",
       "    (4): ReLU(original_name=ReLU)\n",
       "    (5): Dropout(original_name=Dropout)\n",
       "    (6): Linear(original_name=Linear)\n",
       "  )\n",
       ")"
      ]
     },
     "execution_count": 25,
     "metadata": {},
     "output_type": "execute_result"
    }
   ],
   "source": [
    "traced_script_module"
   ]
  },
  {
   "cell_type": "code",
   "execution_count": null,
   "id": "c384e169",
   "metadata": {},
   "outputs": [],
   "source": []
  },
  {
   "cell_type": "code",
   "execution_count": null,
   "id": "61712b83",
   "metadata": {},
   "outputs": [],
   "source": []
  }
 ],
 "metadata": {
  "kernelspec": {
   "display_name": "Python 3 (ipykernel)",
   "language": "python",
   "name": "python3"
  },
  "language_info": {
   "codemirror_mode": {
    "name": "ipython",
    "version": 3
   },
   "file_extension": ".py",
   "mimetype": "text/x-python",
   "name": "python",
   "nbconvert_exporter": "python",
   "pygments_lexer": "ipython3",
   "version": "3.9.16"
  }
 },
 "nbformat": 4,
 "nbformat_minor": 5
}
