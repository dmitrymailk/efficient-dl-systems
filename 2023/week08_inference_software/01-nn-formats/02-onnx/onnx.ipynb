{
 "cells": [
  {
   "cell_type": "code",
   "execution_count": 1,
   "id": "ec1d86fe",
   "metadata": {},
   "outputs": [
    {
     "name": "stderr",
     "output_type": "stream",
     "text": [
      "/Users/AlexHome/vms/effdl-inference/07-software-inference/venv/lib/python3.9/site-packages/tqdm/auto.py:21: TqdmWarning: IProgress not found. Please update jupyter and ipywidgets. See https://ipywidgets.readthedocs.io/en/stable/user_install.html\n",
      "  from .autonotebook import tqdm as notebook_tqdm\n"
     ]
    }
   ],
   "source": [
    "import torch\n",
    "import torchvision\n",
    "import torchvision.models as models\n",
    "\n",
    "vgg16 = models.vgg16(pretrained=True)"
   ]
  },
  {
   "cell_type": "code",
   "execution_count": 2,
   "id": "630b93e8",
   "metadata": {},
   "outputs": [],
   "source": [
    "example = torch.rand(1, 3, 224, 224)"
   ]
  },
  {
   "cell_type": "code",
   "execution_count": 3,
   "id": "cbb68423",
   "metadata": {},
   "outputs": [
    {
     "name": "stdout",
     "output_type": "stream",
     "text": [
      "graph(%input.1 : Float(1, 3, 224, 224, strides=[150528, 50176, 224, 1], requires_grad=0, device=cpu),\n",
      "      %features.0.weight : Float(64, 3, 3, 3, strides=[27, 9, 3, 1], requires_grad=1, device=cpu),\n",
      "      %features.0.bias : Float(64, strides=[1], requires_grad=1, device=cpu),\n",
      "      %features.2.weight : Float(64, 64, 3, 3, strides=[576, 9, 3, 1], requires_grad=1, device=cpu),\n",
      "      %features.2.bias : Float(64, strides=[1], requires_grad=1, device=cpu),\n",
      "      %features.5.weight : Float(128, 64, 3, 3, strides=[576, 9, 3, 1], requires_grad=1, device=cpu),\n",
      "      %features.5.bias : Float(128, strides=[1], requires_grad=1, device=cpu),\n",
      "      %features.7.weight : Float(128, 128, 3, 3, strides=[1152, 9, 3, 1], requires_grad=1, device=cpu),\n",
      "      %features.7.bias : Float(128, strides=[1], requires_grad=1, device=cpu),\n",
      "      %features.10.weight : Float(256, 128, 3, 3, strides=[1152, 9, 3, 1], requires_grad=1, device=cpu),\n",
      "      %features.10.bias : Float(256, strides=[1], requires_grad=1, device=cpu),\n",
      "      %features.12.weight : Float(256, 256, 3, 3, strides=[2304, 9, 3, 1], requires_grad=1, device=cpu),\n",
      "      %features.12.bias : Float(256, strides=[1], requires_grad=1, device=cpu),\n",
      "      %features.14.weight : Float(256, 256, 3, 3, strides=[2304, 9, 3, 1], requires_grad=1, device=cpu),\n",
      "      %features.14.bias : Float(256, strides=[1], requires_grad=1, device=cpu),\n",
      "      %features.17.weight : Float(512, 256, 3, 3, strides=[2304, 9, 3, 1], requires_grad=1, device=cpu),\n",
      "      %features.17.bias : Float(512, strides=[1], requires_grad=1, device=cpu),\n",
      "      %features.19.weight : Float(512, 512, 3, 3, strides=[4608, 9, 3, 1], requires_grad=1, device=cpu),\n",
      "      %features.19.bias : Float(512, strides=[1], requires_grad=1, device=cpu),\n",
      "      %features.21.weight : Float(512, 512, 3, 3, strides=[4608, 9, 3, 1], requires_grad=1, device=cpu),\n",
      "      %features.21.bias : Float(512, strides=[1], requires_grad=1, device=cpu),\n",
      "      %features.24.weight : Float(512, 512, 3, 3, strides=[4608, 9, 3, 1], requires_grad=1, device=cpu),\n",
      "      %features.24.bias : Float(512, strides=[1], requires_grad=1, device=cpu),\n",
      "      %features.26.weight : Float(512, 512, 3, 3, strides=[4608, 9, 3, 1], requires_grad=1, device=cpu),\n",
      "      %features.26.bias : Float(512, strides=[1], requires_grad=1, device=cpu),\n",
      "      %features.28.weight : Float(512, 512, 3, 3, strides=[4608, 9, 3, 1], requires_grad=1, device=cpu),\n",
      "      %features.28.bias : Float(512, strides=[1], requires_grad=1, device=cpu),\n",
      "      %classifier.0.weight : Float(4096, 25088, strides=[25088, 1], requires_grad=1, device=cpu),\n",
      "      %classifier.0.bias : Float(4096, strides=[1], requires_grad=1, device=cpu),\n",
      "      %classifier.3.weight : Float(4096, 4096, strides=[4096, 1], requires_grad=1, device=cpu),\n",
      "      %classifier.3.bias : Float(4096, strides=[1], requires_grad=1, device=cpu),\n",
      "      %classifier.6.weight : Float(1000, 4096, strides=[4096, 1], requires_grad=1, device=cpu),\n",
      "      %classifier.6.bias : Float(1000, strides=[1], requires_grad=1, device=cpu)):\n",
      "  %33 : Float(1, 64, 224, 224, strides=[3211264, 50176, 224, 1], requires_grad=1, device=cpu) = onnx::Conv[dilations=[1, 1], group=1, kernel_shape=[3, 3], pads=[1, 1, 1, 1], strides=[1, 1]](%input.1, %features.0.weight, %features.0.bias) # /Users/AlexHome/vms/effdl-inference/07-software-inference/venv/lib/python3.9/site-packages/torch/nn/modules/conv.py:442:0\n",
      "  %34 : Float(1, 64, 224, 224, strides=[3211264, 50176, 224, 1], requires_grad=1, device=cpu) = onnx::Relu(%33) # /Users/AlexHome/vms/effdl-inference/07-software-inference/venv/lib/python3.9/site-packages/torch/nn/functional.py:1297:0\n",
      "  %35 : Float(1, 64, 224, 224, strides=[3211264, 50176, 224, 1], requires_grad=1, device=cpu) = onnx::Conv[dilations=[1, 1], group=1, kernel_shape=[3, 3], pads=[1, 1, 1, 1], strides=[1, 1]](%34, %features.2.weight, %features.2.bias) # /Users/AlexHome/vms/effdl-inference/07-software-inference/venv/lib/python3.9/site-packages/torch/nn/modules/conv.py:442:0\n",
      "  %36 : Float(1, 64, 224, 224, strides=[3211264, 50176, 224, 1], requires_grad=1, device=cpu) = onnx::Relu(%35) # /Users/AlexHome/vms/effdl-inference/07-software-inference/venv/lib/python3.9/site-packages/torch/nn/functional.py:1297:0\n",
      "  %37 : Float(1, 64, 112, 112, strides=[802816, 12544, 112, 1], requires_grad=1, device=cpu) = onnx::MaxPool[kernel_shape=[2, 2], pads=[0, 0, 0, 0], strides=[2, 2]](%36) # /Users/AlexHome/vms/effdl-inference/07-software-inference/venv/lib/python3.9/site-packages/torch/nn/functional.py:719:0\n",
      "  %38 : Float(1, 128, 112, 112, strides=[1605632, 12544, 112, 1], requires_grad=1, device=cpu) = onnx::Conv[dilations=[1, 1], group=1, kernel_shape=[3, 3], pads=[1, 1, 1, 1], strides=[1, 1]](%37, %features.5.weight, %features.5.bias) # /Users/AlexHome/vms/effdl-inference/07-software-inference/venv/lib/python3.9/site-packages/torch/nn/modules/conv.py:442:0\n",
      "  %39 : Float(1, 128, 112, 112, strides=[1605632, 12544, 112, 1], requires_grad=1, device=cpu) = onnx::Relu(%38) # /Users/AlexHome/vms/effdl-inference/07-software-inference/venv/lib/python3.9/site-packages/torch/nn/functional.py:1297:0\n",
      "  %40 : Float(1, 128, 112, 112, strides=[1605632, 12544, 112, 1], requires_grad=1, device=cpu) = onnx::Conv[dilations=[1, 1], group=1, kernel_shape=[3, 3], pads=[1, 1, 1, 1], strides=[1, 1]](%39, %features.7.weight, %features.7.bias) # /Users/AlexHome/vms/effdl-inference/07-software-inference/venv/lib/python3.9/site-packages/torch/nn/modules/conv.py:442:0\n",
      "  %41 : Float(1, 128, 112, 112, strides=[1605632, 12544, 112, 1], requires_grad=1, device=cpu) = onnx::Relu(%40) # /Users/AlexHome/vms/effdl-inference/07-software-inference/venv/lib/python3.9/site-packages/torch/nn/functional.py:1297:0\n",
      "  %42 : Float(1, 128, 56, 56, strides=[401408, 3136, 56, 1], requires_grad=1, device=cpu) = onnx::MaxPool[kernel_shape=[2, 2], pads=[0, 0, 0, 0], strides=[2, 2]](%41) # /Users/AlexHome/vms/effdl-inference/07-software-inference/venv/lib/python3.9/site-packages/torch/nn/functional.py:719:0\n",
      "  %43 : Float(1, 256, 56, 56, strides=[802816, 3136, 56, 1], requires_grad=1, device=cpu) = onnx::Conv[dilations=[1, 1], group=1, kernel_shape=[3, 3], pads=[1, 1, 1, 1], strides=[1, 1]](%42, %features.10.weight, %features.10.bias) # /Users/AlexHome/vms/effdl-inference/07-software-inference/venv/lib/python3.9/site-packages/torch/nn/modules/conv.py:442:0\n",
      "  %44 : Float(1, 256, 56, 56, strides=[802816, 3136, 56, 1], requires_grad=1, device=cpu) = onnx::Relu(%43) # /Users/AlexHome/vms/effdl-inference/07-software-inference/venv/lib/python3.9/site-packages/torch/nn/functional.py:1297:0\n",
      "  %45 : Float(1, 256, 56, 56, strides=[802816, 3136, 56, 1], requires_grad=1, device=cpu) = onnx::Conv[dilations=[1, 1], group=1, kernel_shape=[3, 3], pads=[1, 1, 1, 1], strides=[1, 1]](%44, %features.12.weight, %features.12.bias) # /Users/AlexHome/vms/effdl-inference/07-software-inference/venv/lib/python3.9/site-packages/torch/nn/modules/conv.py:442:0\n",
      "  %46 : Float(1, 256, 56, 56, strides=[802816, 3136, 56, 1], requires_grad=1, device=cpu) = onnx::Relu(%45) # /Users/AlexHome/vms/effdl-inference/07-software-inference/venv/lib/python3.9/site-packages/torch/nn/functional.py:1297:0\n",
      "  %47 : Float(1, 256, 56, 56, strides=[802816, 3136, 56, 1], requires_grad=1, device=cpu) = onnx::Conv[dilations=[1, 1], group=1, kernel_shape=[3, 3], pads=[1, 1, 1, 1], strides=[1, 1]](%46, %features.14.weight, %features.14.bias) # /Users/AlexHome/vms/effdl-inference/07-software-inference/venv/lib/python3.9/site-packages/torch/nn/modules/conv.py:442:0\n",
      "  %48 : Float(1, 256, 56, 56, strides=[802816, 3136, 56, 1], requires_grad=1, device=cpu) = onnx::Relu(%47) # /Users/AlexHome/vms/effdl-inference/07-software-inference/venv/lib/python3.9/site-packages/torch/nn/functional.py:1297:0\n",
      "  %49 : Float(1, 256, 28, 28, strides=[200704, 784, 28, 1], requires_grad=1, device=cpu) = onnx::MaxPool[kernel_shape=[2, 2], pads=[0, 0, 0, 0], strides=[2, 2]](%48) # /Users/AlexHome/vms/effdl-inference/07-software-inference/venv/lib/python3.9/site-packages/torch/nn/functional.py:719:0\n",
      "  %50 : Float(1, 512, 28, 28, strides=[401408, 784, 28, 1], requires_grad=1, device=cpu) = onnx::Conv[dilations=[1, 1], group=1, kernel_shape=[3, 3], pads=[1, 1, 1, 1], strides=[1, 1]](%49, %features.17.weight, %features.17.bias) # /Users/AlexHome/vms/effdl-inference/07-software-inference/venv/lib/python3.9/site-packages/torch/nn/modules/conv.py:442:0\n",
      "  %51 : Float(1, 512, 28, 28, strides=[401408, 784, 28, 1], requires_grad=1, device=cpu) = onnx::Relu(%50) # /Users/AlexHome/vms/effdl-inference/07-software-inference/venv/lib/python3.9/site-packages/torch/nn/functional.py:1297:0\n",
      "  %52 : Float(1, 512, 28, 28, strides=[401408, 784, 28, 1], requires_grad=1, device=cpu) = onnx::Conv[dilations=[1, 1], group=1, kernel_shape=[3, 3], pads=[1, 1, 1, 1], strides=[1, 1]](%51, %features.19.weight, %features.19.bias) # /Users/AlexHome/vms/effdl-inference/07-software-inference/venv/lib/python3.9/site-packages/torch/nn/modules/conv.py:442:0\n",
      "  %53 : Float(1, 512, 28, 28, strides=[401408, 784, 28, 1], requires_grad=1, device=cpu) = onnx::Relu(%52) # /Users/AlexHome/vms/effdl-inference/07-software-inference/venv/lib/python3.9/site-packages/torch/nn/functional.py:1297:0\n",
      "  %54 : Float(1, 512, 28, 28, strides=[401408, 784, 28, 1], requires_grad=1, device=cpu) = onnx::Conv[dilations=[1, 1], group=1, kernel_shape=[3, 3], pads=[1, 1, 1, 1], strides=[1, 1]](%53, %features.21.weight, %features.21.bias) # /Users/AlexHome/vms/effdl-inference/07-software-inference/venv/lib/python3.9/site-packages/torch/nn/modules/conv.py:442:0\n",
      "  %55 : Float(1, 512, 28, 28, strides=[401408, 784, 28, 1], requires_grad=1, device=cpu) = onnx::Relu(%54) # /Users/AlexHome/vms/effdl-inference/07-software-inference/venv/lib/python3.9/site-packages/torch/nn/functional.py:1297:0\n",
      "  %56 : Float(1, 512, 14, 14, strides=[100352, 196, 14, 1], requires_grad=1, device=cpu) = onnx::MaxPool[kernel_shape=[2, 2], pads=[0, 0, 0, 0], strides=[2, 2]](%55) # /Users/AlexHome/vms/effdl-inference/07-software-inference/venv/lib/python3.9/site-packages/torch/nn/functional.py:719:0\n",
      "  %57 : Float(1, 512, 14, 14, strides=[100352, 196, 14, 1], requires_grad=1, device=cpu) = onnx::Conv[dilations=[1, 1], group=1, kernel_shape=[3, 3], pads=[1, 1, 1, 1], strides=[1, 1]](%56, %features.24.weight, %features.24.bias) # /Users/AlexHome/vms/effdl-inference/07-software-inference/venv/lib/python3.9/site-packages/torch/nn/modules/conv.py:442:0\n",
      "  %58 : Float(1, 512, 14, 14, strides=[100352, 196, 14, 1], requires_grad=1, device=cpu) = onnx::Relu(%57) # /Users/AlexHome/vms/effdl-inference/07-software-inference/venv/lib/python3.9/site-packages/torch/nn/functional.py:1297:0\n",
      "  %59 : Float(1, 512, 14, 14, strides=[100352, 196, 14, 1], requires_grad=1, device=cpu) = onnx::Conv[dilations=[1, 1], group=1, kernel_shape=[3, 3], pads=[1, 1, 1, 1], strides=[1, 1]](%58, %features.26.weight, %features.26.bias) # /Users/AlexHome/vms/effdl-inference/07-software-inference/venv/lib/python3.9/site-packages/torch/nn/modules/conv.py:442:0\n",
      "  %60 : Float(1, 512, 14, 14, strides=[100352, 196, 14, 1], requires_grad=1, device=cpu) = onnx::Relu(%59) # /Users/AlexHome/vms/effdl-inference/07-software-inference/venv/lib/python3.9/site-packages/torch/nn/functional.py:1297:0\n",
      "  %61 : Float(1, 512, 14, 14, strides=[100352, 196, 14, 1], requires_grad=1, device=cpu) = onnx::Conv[dilations=[1, 1], group=1, kernel_shape=[3, 3], pads=[1, 1, 1, 1], strides=[1, 1]](%60, %features.28.weight, %features.28.bias) # /Users/AlexHome/vms/effdl-inference/07-software-inference/venv/lib/python3.9/site-packages/torch/nn/modules/conv.py:442:0\n",
      "  %62 : Float(1, 512, 14, 14, strides=[100352, 196, 14, 1], requires_grad=1, device=cpu) = onnx::Relu(%61) # /Users/AlexHome/vms/effdl-inference/07-software-inference/venv/lib/python3.9/site-packages/torch/nn/functional.py:1297:0\n",
      "  %63 : Float(1, 512, 7, 7, strides=[25088, 49, 7, 1], requires_grad=1, device=cpu) = onnx::MaxPool[kernel_shape=[2, 2], pads=[0, 0, 0, 0], strides=[2, 2]](%62) # /Users/AlexHome/vms/effdl-inference/07-software-inference/venv/lib/python3.9/site-packages/torch/nn/functional.py:719:0\n",
      "  %64 : Float(1, 512, 7, 7, strides=[25088, 49, 7, 1], requires_grad=1, device=cpu) = onnx::AveragePool[kernel_shape=[1, 1], strides=[1, 1]](%63) # /Users/AlexHome/vms/effdl-inference/07-software-inference/venv/lib/python3.9/site-packages/torch/nn/functional.py:1131:0\n",
      "  %65 : Float(1, 25088, strides=[25088, 1], requires_grad=1, device=cpu) = onnx::Flatten[axis=1](%64) # /Users/AlexHome/vms/effdl-inference/07-software-inference/venv/lib/python3.9/site-packages/torchvision/models/vgg.py:51:0\n",
      "  %66 : Float(1, 4096, strides=[4096, 1], requires_grad=1, device=cpu) = onnx::Gemm[alpha=1., beta=1., transB=1](%65, %classifier.0.weight, %classifier.0.bias) # /Users/AlexHome/vms/effdl-inference/07-software-inference/venv/lib/python3.9/site-packages/torch/nn/functional.py:1848:0\n",
      "  %67 : Float(1, 4096, strides=[4096, 1], requires_grad=1, device=cpu) = onnx::Relu(%66) # /Users/AlexHome/vms/effdl-inference/07-software-inference/venv/lib/python3.9/site-packages/torch/nn/functional.py:1169:0\n",
      "  %68 : Float(1, 4096, strides=[4096, 1], requires_grad=1, device=cpu) = onnx::Gemm[alpha=1., beta=1., transB=1](%67, %classifier.3.weight, %classifier.3.bias) # /Users/AlexHome/vms/effdl-inference/07-software-inference/venv/lib/python3.9/site-packages/torch/nn/functional.py:1848:0\n",
      "  %69 : Float(1, 4096, strides=[4096, 1], requires_grad=1, device=cpu) = onnx::Relu(%68) # /Users/AlexHome/vms/effdl-inference/07-software-inference/venv/lib/python3.9/site-packages/torch/nn/functional.py:1169:0\n",
      "  %70 : Float(1, 1000, strides=[1000, 1], requires_grad=1, device=cpu) = onnx::Gemm[alpha=1., beta=1., transB=1](%69, %classifier.6.weight, %classifier.6.bias) # /Users/AlexHome/vms/effdl-inference/07-software-inference/venv/lib/python3.9/site-packages/torch/nn/functional.py:1848:0\n",
      "  return (%70)\n",
      "\n"
     ]
    }
   ],
   "source": [
    "torch.onnx.export(vgg16, example, \"vgg16.onnx\", verbose=True)"
   ]
  },
  {
   "cell_type": "code",
   "execution_count": null,
   "id": "8776de8f",
   "metadata": {},
   "outputs": [],
   "source": [
    "! head vgg16.onnx"
   ]
  },
  {
   "cell_type": "code",
   "execution_count": null,
   "id": "40f7076e",
   "metadata": {},
   "outputs": [],
   "source": [
    "! pip install onnx tensorflow==2.11.0 tensorflow-addons tensorflow-probability onnx_tf"
   ]
  },
  {
   "cell_type": "code",
   "execution_count": null,
   "id": "9d5b2f4b",
   "metadata": {},
   "outputs": [],
   "source": []
  },
  {
   "cell_type": "code",
   "execution_count": 4,
   "id": "b7db2e50",
   "metadata": {},
   "outputs": [
    {
     "name": "stderr",
     "output_type": "stream",
     "text": [
      "2023-03-06 16:27:18.811891: I tensorflow/core/platform/cpu_feature_guard.cc:193] This TensorFlow binary is optimized with oneAPI Deep Neural Network Library (oneDNN) to use the following CPU instructions in performance-critical operations:  AVX2 FMA\n",
      "To enable them in other operations, rebuild TensorFlow with the appropriate compiler flags.\n"
     ]
    }
   ],
   "source": [
    "import onnx\n",
    "from onnx_tf.backend import prepare"
   ]
  },
  {
   "cell_type": "code",
   "execution_count": 5,
   "id": "dd6fd9c9",
   "metadata": {},
   "outputs": [
    {
     "name": "stderr",
     "output_type": "stream",
     "text": [
      "2023-03-06 16:27:49.832462: I tensorflow/core/platform/cpu_feature_guard.cc:193] This TensorFlow binary is optimized with oneAPI Deep Neural Network Library (oneDNN) to use the following CPU instructions in performance-critical operations:  AVX2 FMA\n",
      "To enable them in other operations, rebuild TensorFlow with the appropriate compiler flags.\n"
     ]
    }
   ],
   "source": [
    "model = onnx.load('vgg16.onnx')\n",
    "tf_rep = prepare(model) "
   ]
  },
  {
   "cell_type": "code",
   "execution_count": 6,
   "id": "fcd62529",
   "metadata": {},
   "outputs": [
    {
     "name": "stdout",
     "output_type": "stream",
     "text": [
      "--2023-03-06 16:28:09--  https://upload.wikimedia.org/wikipedia/commons/thumb/3/3a/Cat03.jpg/1200px-Cat03.jpg\n",
      "Распознаётся upload.wikimedia.org (upload.wikimedia.org)… 2620:0:862:ed1a::2:b, 91.198.174.208\n",
      "Подключение к upload.wikimedia.org (upload.wikimedia.org)|2620:0:862:ed1a::2:b|:443... соединение установлено.\n",
      "HTTP-запрос отправлен. Ожидание ответа… 200 OK\n",
      "Длина: 156145 (152K) [image/jpeg]\n",
      "Сохранение в: «1200px-Cat03.jpg.3»\n",
      "\n",
      "1200px-Cat03.jpg.3  100%[===================>] 152,49K  --.-KB/s    за 0,1s    \n",
      "\n",
      "2023-03-06 16:28:10 (1,02 MB/s) - «1200px-Cat03.jpg.3» сохранён [156145/156145]\n",
      "\n"
     ]
    }
   ],
   "source": [
    "! wget https://upload.wikimedia.org/wikipedia/commons/thumb/3/3a/Cat03.jpg/1200px-Cat03.jpg"
   ]
  },
  {
   "cell_type": "code",
   "execution_count": 7,
   "id": "802caa82",
   "metadata": {},
   "outputs": [],
   "source": [
    "import torchvision.transforms as transforms\n",
    "\n",
    "transform_pipeline = transforms.Compose([\n",
    "    transforms.Resize(224),\n",
    "    transforms.ToTensor(),\n",
    "    transforms.Normalize(mean=[0.485, 0.456, 0.406],std=[0.229, 0.224, 0.225])\n",
    "])\n",
    "\n",
    "\n",
    "def prepare(img_path):\n",
    "    image = Image.open(img_path)\n",
    "    img_data = transform_pipeline(image).unsqueeze(0)\n",
    "    data = np.array(img_data)\n",
    "    return data"
   ]
  },
  {
   "cell_type": "code",
   "execution_count": 9,
   "id": "e9e019ea",
   "metadata": {},
   "outputs": [],
   "source": [
    "import numpy as np\n",
    "from IPython.display import display\n",
    "from PIL import Image\n",
    "\n",
    "img = prepare('1200px-Cat03.jpg')"
   ]
  },
  {
   "cell_type": "code",
   "execution_count": null,
   "id": "f9497721",
   "metadata": {},
   "outputs": [],
   "source": []
  },
  {
   "cell_type": "code",
   "execution_count": 10,
   "id": "b8202c01",
   "metadata": {},
   "outputs": [
    {
     "name": "stdout",
     "output_type": "stream",
     "text": [
      "WARNING:tensorflow:From /Users/AlexHome/vms/effdl-inference/07-software-inference/venv/lib/python3.9/site-packages/tensorflow/python/autograph/pyct/static_analysis/liveness.py:83: Analyzer.lamba_check (from tensorflow.python.autograph.pyct.static_analysis.liveness) is deprecated and will be removed after 2023-09-23.\n",
      "Instructions for updating:\n",
      "Lambda fuctions will be no more assumed to be used in the statement where they are used, or at least in the same block. https://github.com/tensorflow/tensorflow/issues/56089\n"
     ]
    }
   ],
   "source": [
    "output = tf_rep.run(np.asarray(img, dtype=np.float32))"
   ]
  },
  {
   "cell_type": "code",
   "execution_count": 11,
   "id": "fdd193cf",
   "metadata": {},
   "outputs": [
    {
     "data": {
      "text/plain": [
       "285"
      ]
     },
     "execution_count": 11,
     "metadata": {},
     "output_type": "execute_result"
    }
   ],
   "source": [
    "np.argmax(output)"
   ]
  },
  {
   "cell_type": "code",
   "execution_count": 12,
   "id": "6200f32d",
   "metadata": {},
   "outputs": [
    {
     "name": "stderr",
     "output_type": "stream",
     "text": [
      "WARNING:absl:Function `__call__` contains input name(s) input.1 with unsupported characters which will be renamed to input_1 in the SavedModel.\n",
      "WARNING:absl:Found untraced functions such as gen_tensor_dict while saving (showing 1 of 1). These functions will not be directly callable after loading.\n"
     ]
    },
    {
     "name": "stdout",
     "output_type": "stream",
     "text": [
      "INFO:tensorflow:Assets written to: vgg16.pb/assets\n"
     ]
    },
    {
     "name": "stderr",
     "output_type": "stream",
     "text": [
      "INFO:tensorflow:Assets written to: vgg16.pb/assets\n"
     ]
    }
   ],
   "source": [
    "tf_rep.export_graph('vgg16.pb')"
   ]
  },
  {
   "cell_type": "code",
   "execution_count": 13,
   "id": "75aa848d",
   "metadata": {},
   "outputs": [
    {
     "name": "stdout",
     "output_type": "stream",
     "text": [
      "1200px-Cat03.jpg   1200px-Cat03.jpg.2 README.md          vgg16.onnx\r\n",
      "1200px-Cat03.jpg.1 1200px-Cat03.jpg.3 onnx.ipynb         \u001b[34mvgg16.pb\u001b[m\u001b[m\r\n"
     ]
    }
   ],
   "source": [
    "! ls"
   ]
  },
  {
   "cell_type": "code",
   "execution_count": 14,
   "id": "fbe8e5cd",
   "metadata": {},
   "outputs": [
    {
     "name": "stdout",
     "output_type": "stream",
     "text": [
      "\u001b[34massets\u001b[m\u001b[m         fingerprint.pb saved_model.pb \u001b[34mvariables\u001b[m\u001b[m\r\n"
     ]
    }
   ],
   "source": [
    "! ls vgg16.pb"
   ]
  },
  {
   "cell_type": "code",
   "execution_count": 15,
   "id": "446b6d3c",
   "metadata": {},
   "outputs": [],
   "source": [
    "import tensorflow as tf"
   ]
  },
  {
   "cell_type": "code",
   "execution_count": 16,
   "id": "47f022d8",
   "metadata": {},
   "outputs": [],
   "source": [
    "modeltf = tf.saved_model.load(\"vgg16.pb\")"
   ]
  },
  {
   "cell_type": "code",
   "execution_count": 17,
   "id": "915777d3",
   "metadata": {},
   "outputs": [
    {
     "data": {
      "text/plain": [
       "<tensorflow.python.saved_model.load.Loader._recreate_base_user_object.<locals>._UserObject at 0x182d74d00>"
      ]
     },
     "execution_count": 17,
     "metadata": {},
     "output_type": "execute_result"
    }
   ],
   "source": [
    "modeltf"
   ]
  },
  {
   "cell_type": "code",
   "execution_count": 18,
   "id": "5eac4afe",
   "metadata": {},
   "outputs": [],
   "source": [
    "infer = modeltf.signatures[\"serving_default\"]"
   ]
  },
  {
   "cell_type": "code",
   "execution_count": 19,
   "id": "e38c7a98",
   "metadata": {},
   "outputs": [
    {
     "data": {
      "text/plain": [
       "<tf.Tensor: shape=(1, 3, 224, 224), dtype=float32, numpy=\n",
       "array([[[[1.5981677 , 1.6324171 , 1.6837914 , ..., 1.8379141 ,\n",
       "          1.8550389 , 1.8550389 ],\n",
       "         [1.5981677 , 1.6324171 , 1.6837914 , ..., 1.8721637 ,\n",
       "          1.8892884 , 1.8892884 ],\n",
       "         [1.5981677 , 1.6324171 , 1.6837914 , ..., 1.9064132 ,\n",
       "          1.9064132 , 1.8892884 ],\n",
       "         ...,\n",
       "         [1.1015497 , 1.1357993 , 1.0844251 , ..., 1.6324171 ,\n",
       "          1.6324171 , 1.6152923 ],\n",
       "         [1.1186745 , 1.1529241 , 1.1015497 , ..., 1.6837914 ,\n",
       "          1.6837914 , 1.6837914 ],\n",
       "         [1.0501755 , 1.0844251 , 1.0844251 , ..., 1.7180408 ,\n",
       "          1.7180408 , 1.7351656 ]],\n",
       "\n",
       "        [[1.6232493 , 1.6757703 , 1.7457983 , ..., 1.8858544 ,\n",
       "          1.8683473 , 1.8508403 ],\n",
       "         [1.6057423 , 1.6757703 , 1.7457983 , ..., 1.8858544 ,\n",
       "          1.8858544 , 1.8508403 ],\n",
       "         [1.6407562 , 1.7107843 , 1.7633053 , ..., 1.8858544 ,\n",
       "          1.8508403 , 1.7983193 ],\n",
       "         ...,\n",
       "         [0.71288526, 0.76540625, 0.69537824, ..., 1.5707283 ,\n",
       "          1.5882353 , 1.5707283 ],\n",
       "         [0.74789923, 0.78291327, 0.7303922 , ..., 1.6232493 ,\n",
       "          1.6407562 , 1.6407562 ],\n",
       "         [0.6778712 , 0.71288526, 0.71288526, ..., 1.6582633 ,\n",
       "          1.6757703 , 1.6932774 ]],\n",
       "\n",
       "        [[1.2805231 , 1.4025275 , 1.5071026 , ..., 1.8731157 ,\n",
       "          1.8556864 , 1.8556864 ],\n",
       "         [1.2282355 , 1.367669  , 1.4896734 , ..., 1.8905448 ,\n",
       "          1.8905448 , 1.8556864 ],\n",
       "         [1.2108063 , 1.3502399 , 1.4722441 , ..., 1.8905448 ,\n",
       "          1.8556864 , 1.8208281 ],\n",
       "         ...,\n",
       "         [0.2696297 , 0.32191727, 0.2696297 , ..., 1.5071026 ,\n",
       "          1.5245317 , 1.5071026 ],\n",
       "         [0.33934647, 0.37420484, 0.32191727, ..., 1.5593902 ,\n",
       "          1.5768193 , 1.5768193 ],\n",
       "         [0.3044881 , 0.33934647, 0.32191727, ..., 1.5942485 ,\n",
       "          1.6116778 , 1.6291069 ]]]], dtype=float32)>"
      ]
     },
     "execution_count": 19,
     "metadata": {},
     "output_type": "execute_result"
    }
   ],
   "source": [
    "tf.constant(img)"
   ]
  },
  {
   "cell_type": "code",
   "execution_count": 20,
   "id": "14edde30",
   "metadata": {},
   "outputs": [],
   "source": [
    "output = infer(tf.constant(img))"
   ]
  },
  {
   "cell_type": "code",
   "execution_count": 21,
   "id": "060a4691",
   "metadata": {},
   "outputs": [
    {
     "data": {
      "text/plain": [
       "{'70': <tf.Tensor: shape=(1, 1000), dtype=float32, numpy=\n",
       " array([[-5.11787605e+00, -9.00458515e-01, -1.33540070e+00,\n",
       "         -3.37574929e-02, -1.62641752e+00,  1.24357831e+00,\n",
       "         -1.14815104e+00,  1.55836046e-02,  2.63606381e+00,\n",
       "         -3.83762860e+00, -1.54843211e+00, -2.95213914e+00,\n",
       "          1.23569787e+00, -7.08229601e-01, -3.13737106e+00,\n",
       "         -7.40747750e-01, -4.38672811e-01,  1.04632415e-01,\n",
       "         -2.55209517e+00, -3.68814731e+00, -2.86074519e+00,\n",
       "         -3.22845554e+00, -4.80303049e+00, -3.59836626e+00,\n",
       "         -2.71968842e+00, -4.30782700e+00, -4.68665552e+00,\n",
       "         -2.75465727e+00, -4.50009394e+00, -2.30202460e+00,\n",
       "         -1.76955879e+00, -2.61921310e+00, -2.64150381e+00,\n",
       "         -3.41213989e+00, -3.77243876e+00, -4.06072855e+00,\n",
       "         -1.76341259e+00, -3.37075162e+00, -7.38505781e-01,\n",
       "         -2.89529276e+00, -6.44332469e-01, -2.17674971e+00,\n",
       "         -2.18159246e+00, -2.43516016e+00, -1.87657857e+00,\n",
       "         -4.09389210e+00, -1.22118938e+00, -2.08098340e+00,\n",
       "         -4.20933723e+00, -5.28374195e+00, -4.99164104e+00,\n",
       "         -2.21688795e+00, -1.33076346e+00, -2.40737867e+00,\n",
       "         -9.36229110e-01, -3.22439647e+00, -2.69655800e+00,\n",
       "         -3.23115206e+00, -2.46522164e+00, -1.96710885e+00,\n",
       "         -6.99339867e-01, -1.56396949e+00, -3.68775630e+00,\n",
       "         -2.06565881e+00, -3.32882881e+00, -2.72819519e+00,\n",
       "         -2.22727001e-01, -6.05746329e-01, -1.73685408e+00,\n",
       "          1.99830279e-01, -9.21899617e-01, -2.23565578e+00,\n",
       "         -2.58629966e+00, -2.23256803e+00, -2.29565787e+00,\n",
       "         -8.42402875e-01, -2.87724686e+00, -2.22008920e+00,\n",
       "          1.10499792e-01, -8.03430617e-01, -3.64317775e+00,\n",
       "         -5.83153629e+00, -4.80614156e-01, -2.53787351e+00,\n",
       "         -1.95866287e+00, -1.72499907e+00,  1.22185543e-01,\n",
       "         -1.18820798e+00, -1.62044561e+00, -2.91917372e+00,\n",
       "         -2.19756770e+00, -5.10958481e+00, -3.29277277e+00,\n",
       "         -4.31481361e+00, -9.67789710e-01, -6.42027140e+00,\n",
       "         -3.61631131e+00, -1.93367159e+00, -5.24608469e+00,\n",
       "         -2.12493587e+00, -2.53473997e+00, -6.33171082e+00,\n",
       "         -2.98096776e+00, -1.62920582e+00,  1.51684260e+00,\n",
       "         -2.91171169e+00,  3.51493883e+00, -2.28377247e+00,\n",
       "         -1.39374471e+00, -1.68552184e+00, -2.38106632e+00,\n",
       "         -1.45689523e+00,  4.20356417e+00, -8.30525532e-02,\n",
       "          1.24594152e+00, -1.56890643e+00, -4.03660822e+00,\n",
       "          9.16045725e-01, -1.57877398e+00, -4.68922853e+00,\n",
       "         -6.60227394e+00, -2.97799349e+00, -1.64430964e+00,\n",
       "         -1.51356411e+00,  6.15827084e-01, -1.44221544e+00,\n",
       "         -1.97197068e+00, -6.24002743e+00, -7.36614180e+00,\n",
       "         -5.20434761e+00, -1.71395707e+00, -5.06714916e+00,\n",
       "         -4.62529278e+00, -1.01205981e+00, -3.51042366e+00,\n",
       "         -5.24920416e+00, -1.77014518e+00, -3.57654309e+00,\n",
       "         -2.81369472e+00, -3.57228041e+00, -1.06895745e+00,\n",
       "         -1.99388587e+00, -1.73973882e+00, -3.99062204e+00,\n",
       "         -4.11070967e+00, -3.27148843e+00, -4.74615765e+00,\n",
       "         -5.78312683e+00, -3.42750144e+00, -3.63926291e+00,\n",
       "          2.27925014e+00,  6.91051149e+00, -2.31281042e+00,\n",
       "         -1.87896526e+00,  1.05879056e+00, -7.07552135e-01,\n",
       "         -8.37689698e-01, -1.70417893e+00,  1.97571743e+00,\n",
       "          1.60275221e+00, -2.18955541e+00,  1.46268094e+00,\n",
       "          6.04514897e-01,  2.39381552e+00, -2.59748667e-01,\n",
       "         -2.03625131e+00, -2.07069731e+00, -3.12847757e+00,\n",
       "          3.87801862e+00, -3.20943570e+00, -2.75977707e+00,\n",
       "          2.97954893e+00,  1.27724910e+00,  5.31890106e+00,\n",
       "          1.94986987e+00, -3.18224931e+00,  5.23024917e-01,\n",
       "         -4.38794708e+00,  2.43389297e+00,  1.43151128e+00,\n",
       "          1.54458761e+00, -3.15047097e+00,  1.62380123e+00,\n",
       "         -2.73304701e+00,  2.10245037e+00,  4.39975786e+00,\n",
       "          6.44508648e+00,  2.16218805e+00, -1.78529334e+00,\n",
       "          1.12010086e+00, -3.78102422e+00, -3.21516216e-01,\n",
       "          2.06076169e+00,  4.01372242e+00, -1.27537072e+00,\n",
       "          2.31877398e+00,  1.16158378e+00, -3.10840935e-01,\n",
       "          1.10368222e-01,  1.83738017e+00, -9.51285183e-01,\n",
       "          1.90018669e-01,  2.49900967e-01,  1.33238208e+00,\n",
       "          1.87206745e-01, -1.07349277e+00, -1.91208339e+00,\n",
       "          2.13256192e+00,  3.78306198e+00,  3.47703385e+00,\n",
       "         -2.97198445e-01,  2.74887896e+00, -1.22195935e+00,\n",
       "          2.77358115e-01, -3.56147361e+00,  6.99282229e-01,\n",
       "         -2.26020312e+00, -1.64549410e+00,  4.53771353e-01,\n",
       "          1.94100487e+00, -9.53585207e-01, -3.61636925e+00,\n",
       "         -2.14800668e+00,  2.61793423e+00, -2.90021777e-01,\n",
       "          2.84815669e+00, -2.29265475e+00,  6.11401224e+00,\n",
       "         -3.91467953e+00, -4.09239435e+00, -1.65851665e+00,\n",
       "         -7.14405105e-02,  4.87824798e-01, -8.74181688e-01,\n",
       "         -1.62035704e-01,  2.33713293e+00,  8.28705490e-01,\n",
       "          3.64268565e+00,  1.38266921e+00, -1.60665154e+00,\n",
       "         -1.06142215e-01, -9.08621848e-01,  8.98945093e-01,\n",
       "          2.55707622e+00, -2.17556953e+00,  5.06881380e+00,\n",
       "          1.21744275e+00, -7.38650203e-01,  4.82514668e+00,\n",
       "          5.78768611e-01,  4.47727013e+00,  5.76341629e-01,\n",
       "         -2.53195024e+00,  5.86970043e+00,  8.75297844e-01,\n",
       "         -1.82030606e+00, -2.17288065e+00, -2.51726699e+00,\n",
       "         -1.43426478e-01,  1.90821660e+00,  2.06055832e+00,\n",
       "         -3.78423738e+00,  1.36777627e+00,  5.82820272e+00,\n",
       "          4.11568737e+00,  1.58654079e-01, -9.91432667e-01,\n",
       "         -3.35024190e+00,  9.06960785e-01,  1.55799925e-01,\n",
       "          1.25475955e+00, -9.85493541e-01,  2.49889612e+00,\n",
       "          6.09525442e+00,  3.57940674e+00, -1.71866739e+00,\n",
       "          2.20611739e+00,  3.36208534e+00,  2.57441115e+00,\n",
       "          1.76088110e-01,  2.33962965e+00,  1.14776764e+01,\n",
       "          1.29716158e+01,  4.74783373e+00,  6.87658119e+00,\n",
       "          1.39555483e+01,  6.66328049e+00,  9.92011356e+00,\n",
       "          1.71433139e+00, -5.21999478e-01,  2.96351314e+00,\n",
       "          3.38268638e+00,  3.59606576e+00, -2.05328301e-01,\n",
       "         -1.36092722e+00, -2.18732905e+00, -2.39651918e+00,\n",
       "         -5.24075508e+00,  1.18664873e+00,  1.51410595e-01,\n",
       "         -4.22021055e+00, -2.59336543e+00, -4.48499966e+00,\n",
       "         -2.31103015e+00, -3.56860209e+00, -5.04718113e+00,\n",
       "         -3.74798799e+00, -3.72359586e+00, -5.11439991e+00,\n",
       "         -3.42109823e+00, -3.71743649e-01, -5.45276143e-02,\n",
       "          1.66089261e+00,  3.80963117e-01,  6.62145019e-01,\n",
       "         -9.29030478e-01, -3.28149736e-01, -1.99478340e+00,\n",
       "          1.84629977e-01, -3.55802345e+00, -4.55141115e+00,\n",
       "         -1.44283521e+00, -8.52168620e-01, -4.42626047e+00,\n",
       "         -2.43049765e+00, -2.95937419e+00, -5.16575456e-01,\n",
       "          1.41308105e+00, -1.91920567e+00, -1.36762798e+00,\n",
       "          3.91703176e+00,  2.85575604e+00,  3.55878520e+00,\n",
       "          5.49624681e+00, -2.06305337e+00, -1.71596444e+00,\n",
       "         -2.62051487e+00, -2.00065589e+00,  1.90488672e+00,\n",
       "          1.40531135e+00,  1.65765178e+00,  3.37090135e-01,\n",
       "         -4.18340981e-01, -1.91228044e+00, -2.64598632e+00,\n",
       "         -1.98936254e-01, -4.49330664e+00, -4.71331453e+00,\n",
       "         -1.87679040e+00, -1.82853770e+00, -9.65877473e-02,\n",
       "         -2.11458635e+00, -4.15884592e-02,  8.54491770e-01,\n",
       "         -2.58242941e+00,  5.75139701e-01,  3.64276719e+00,\n",
       "          2.66347551e+00, -1.74982816e-01,  8.44970286e-01,\n",
       "          1.01040912e+00, -1.43631446e+00, -1.19285429e+00,\n",
       "         -1.72194421e+00, -3.39102268e+00, -2.87310076e+00,\n",
       "         -3.84162402e+00, -2.39078426e+00, -3.50525784e+00,\n",
       "         -4.21315718e+00, -4.30116940e+00, -2.68073273e+00,\n",
       "         -3.06794643e+00,  5.01146734e-01, -2.36580396e+00,\n",
       "         -6.06070471e+00, -1.27983415e+00, -2.58912683e+00,\n",
       "         -2.64911723e+00, -3.66460538e+00, -3.32725501e+00,\n",
       "         -3.76068091e+00, -2.06161451e+00, -3.58191681e+00,\n",
       "         -3.41472077e+00, -4.95517302e+00, -4.09311485e+00,\n",
       "         -1.13798678e+00, -3.82053208e+00, -4.02307081e+00,\n",
       "         -3.08181429e+00, -1.42840183e+00, -3.55269957e+00,\n",
       "         -2.33064747e+00, -1.92726529e+00, -1.85707867e+00,\n",
       "         -1.09056568e+00, -9.81464028e-01,  8.15078557e-01,\n",
       "         -4.51566726e-01, -1.79322934e+00, -1.17855406e+00,\n",
       "          3.55352664e+00, -2.88523197e+00, -4.16983700e+00,\n",
       "         -6.18972015e+00, -1.65183103e+00, -2.94882584e+00,\n",
       "         -2.72434092e+00,  9.91188586e-01, -4.37762594e+00,\n",
       "          2.59192276e+00,  5.27447462e+00, -3.67985940e+00,\n",
       "          2.36510563e+00,  1.64530122e+00, -1.04631531e+00,\n",
       "         -3.61864716e-01,  1.42191207e+00,  5.13045740e+00,\n",
       "          1.23782659e+00,  1.07234764e+00, -1.21562934e+00,\n",
       "         -9.90228713e-01,  7.83574045e-01, -9.76833627e-02,\n",
       "          5.52534521e-01,  2.44081235e+00,  3.86955070e+00,\n",
       "          2.03650713e+00,  4.53139335e-01,  2.96885490e+00,\n",
       "         -1.51365817e+00,  2.90773988e+00,  3.72956300e+00,\n",
       "          5.75585699e+00, -1.65242696e+00, -1.84771657e+00,\n",
       "          4.06819105e+00, -1.07632208e+00,  3.41622996e+00,\n",
       "          2.66473770e+00, -3.14753652e+00,  3.03846312e+00,\n",
       "         -4.12743998e+00, -9.48821485e-01,  3.38578773e+00,\n",
       "         -1.13721144e+00,  1.42025389e-02, -3.09727645e+00,\n",
       "         -2.81101751e+00, -4.02705908e-01,  1.42232072e+00,\n",
       "          2.49152803e+00,  1.06651521e+00,  3.88107896e+00,\n",
       "          1.84559673e-01,  6.47372484e+00, -1.14681613e+00,\n",
       "          3.64805043e-01, -5.32195330e-01, -2.69533038e+00,\n",
       "          3.77899456e+00,  8.97524738e+00,  2.39100361e+00,\n",
       "         -2.18289566e+00, -4.64953518e+00,  4.72543925e-01,\n",
       "         -2.01517534e+00,  3.86027074e+00,  3.16070175e+00,\n",
       "         -3.65986323e+00,  9.57591414e-01,  1.58141708e+00,\n",
       "         -6.45636380e-01,  1.84772980e+00, -7.24676847e-01,\n",
       "         -2.29219586e-01,  8.96924496e+00,  1.94025826e+00,\n",
       "         -6.36307836e-01,  1.31455696e+00, -1.36533380e+00,\n",
       "         -3.16297150e+00, -1.04514587e+00,  7.32244790e-01,\n",
       "         -2.20880342e+00,  2.79495692e+00,  2.04897612e-01,\n",
       "          9.71146107e-01, -4.17248201e+00, -1.51540720e+00,\n",
       "          2.35918474e+00,  1.55599070e+00, -2.05046248e+00,\n",
       "         -2.99546272e-01,  2.51493335e+00, -1.31730175e+00,\n",
       "         -7.18254566e-01,  2.03561425e+00, -7.35567629e-01,\n",
       "         -6.69088781e-01,  1.92602742e+00,  2.24383116e+00,\n",
       "          5.24356270e+00,  2.27411056e+00,  2.97056103e+00,\n",
       "          1.96280491e+00,  4.22626686e+00,  1.62049994e-01,\n",
       "         -1.09749758e+00, -2.37665391e+00, -5.47870576e-01,\n",
       "         -6.02601945e-01,  3.84283042e+00,  3.62694526e+00,\n",
       "          3.42152500e+00, -3.67175311e-01,  1.22357333e+00,\n",
       "          6.50820827e+00,  2.95534086e+00,  4.49090195e+00,\n",
       "         -1.21170700e+00,  1.88125932e+00, -2.64759707e+00,\n",
       "         -4.12249470e+00,  1.05802369e+00,  2.58690864e-03,\n",
       "         -9.81616229e-02,  7.20216155e-01,  8.51430714e-01,\n",
       "          1.94253528e+00,  2.76573968e+00,  9.65773106e-01,\n",
       "          5.49942684e+00, -6.89979732e-01, -7.92875528e-01,\n",
       "         -4.15577739e-01, -2.37166452e+00,  6.82295227e+00,\n",
       "         -2.22718978e+00,  8.65496337e-01,  2.69187093e+00,\n",
       "          3.95973802e+00,  2.15134835e+00,  3.22292805e+00,\n",
       "          9.23808694e-01, -6.27322960e+00, -1.09157813e+00,\n",
       "          3.66805339e+00,  9.39027727e-01,  3.16838455e+00,\n",
       "          4.39210415e+00,  3.33761477e+00, -2.71748972e+00,\n",
       "         -2.93114662e+00,  1.09123468e-01,  1.46361038e-01,\n",
       "         -1.31821394e+00,  2.45478511e+00,  2.71947920e-01,\n",
       "         -1.54609358e+00, -7.67253637e-01,  1.78394639e+00,\n",
       "         -2.04965472e+00, -2.02424669e+00,  1.47144520e+00,\n",
       "          3.05093098e+00,  1.21517158e+00, -3.40581417e+00,\n",
       "          8.01378667e-01, -3.33876443e+00,  5.19645309e+00,\n",
       "         -1.91593981e+00,  3.05763036e-01, -2.26289463e+00,\n",
       "         -1.21197736e+00, -1.77076533e-01, -1.11447823e+00,\n",
       "          1.06105983e+00, -3.40247974e-02, -4.03466523e-01,\n",
       "          1.50151348e+00, -7.99202502e-01, -6.32919490e-01,\n",
       "          4.61769223e-01, -2.43334579e+00,  1.32090962e+00,\n",
       "          6.53354597e+00,  7.14744627e-01, -4.11806345e-01,\n",
       "          3.48048353e+00,  2.78875685e+00,  3.36425781e+00,\n",
       "         -9.53088045e-01, -3.58984876e+00,  5.16418554e-02,\n",
       "         -1.66450393e+00, -9.76127088e-01, -4.09280896e-01,\n",
       "          2.02510214e+00, -2.33079457e+00,  5.13286814e-02,\n",
       "         -2.48065400e+00,  2.01313400e+00,  2.77773786e+00,\n",
       "          3.16918302e+00,  1.16332221e+00,  1.87103653e+00,\n",
       "         -1.82098138e+00,  1.71962941e+00,  3.23695922e+00,\n",
       "         -3.27947426e+00,  1.96107835e-01,  6.41399860e-01,\n",
       "          8.90556872e-02, -8.48903537e-01, -8.74392211e-01,\n",
       "          4.91286612e+00,  2.91878629e+00,  5.58817196e+00,\n",
       "          6.04267716e-01,  7.53620911e+00,  1.27667236e+00,\n",
       "         -1.89407313e+00, -1.29645395e+00,  2.66947269e+00,\n",
       "         -4.35167885e+00,  1.30630350e+00,  1.79267108e+00,\n",
       "          5.74746192e-01,  1.93365335e+00, -7.73654342e-01,\n",
       "          3.17700338e+00, -2.30307508e+00,  7.50599384e-01,\n",
       "          1.62288165e+00,  1.79831636e+00,  1.07163858e+00,\n",
       "          9.66219485e-01,  9.44705248e-01, -6.57055557e-01,\n",
       "         -2.65645981e+00,  1.71839190e+00,  2.22554469e+00,\n",
       "         -3.79473853e+00,  1.57544398e+00,  5.20160484e+00,\n",
       "          7.05464363e-01, -2.79819584e+00, -1.92131013e-01,\n",
       "          1.21414220e+00, -1.62793708e+00,  2.29766846e+00,\n",
       "         -2.66504431e+00,  2.72579670e-01, -1.00072420e+00,\n",
       "         -2.48615932e+00,  1.68009734e+00,  7.05456495e+00,\n",
       "         -4.33594656e+00, -3.45716643e+00,  8.79242241e-01,\n",
       "         -3.52266932e+00,  2.41730237e+00, -1.28063846e+00,\n",
       "          2.42297459e+00,  7.56333649e-01, -5.10397243e+00,\n",
       "          5.69609404e-01,  1.33620751e+00, -2.51968312e+00,\n",
       "         -2.22415233e+00,  4.49321747e+00,  3.37085462e+00,\n",
       "         -4.03398800e+00,  5.19450188e+00,  2.32609582e+00,\n",
       "          1.15969300e+00,  2.09370399e+00,  2.46245170e+00,\n",
       "          4.14092541e+00, -1.37467003e+00, -1.34387529e+00,\n",
       "         -1.18432117e+00, -2.96009183e+00,  9.53438401e-01,\n",
       "         -3.73232675e+00,  4.25127834e-01, -3.69299412e+00,\n",
       "         -1.79226995e+00, -1.14265072e+00,  3.37561083e+00,\n",
       "         -4.06156361e-01, -1.83364558e+00,  2.42503971e-01,\n",
       "          3.49278116e+00,  2.43768477e+00, -4.29038143e+00,\n",
       "         -1.51821339e+00,  5.72576618e+00, -2.44773602e+00,\n",
       "         -2.26639844e-02,  1.62849247e-01,  1.63794291e+00,\n",
       "         -5.24458075e+00, -5.81086278e-01, -4.76213962e-01,\n",
       "          6.09177113e-01,  1.88075471e+00,  3.22604728e+00,\n",
       "          2.36913371e+00,  2.43368244e+00,  1.22871637e+00,\n",
       "          3.75444555e+00, -1.47274971e+00, -2.68276095e-01,\n",
       "         -1.85476196e+00, -1.45478654e+00,  3.02827621e+00,\n",
       "          2.76054764e+00,  2.34895730e+00,  4.44362736e+00,\n",
       "          4.31075478e+00, -1.74035251e+00,  3.81499815e+00,\n",
       "         -1.79046237e+00, -3.12133002e+00,  7.54080820e+00,\n",
       "          2.33860445e+00, -1.44294894e+00,  3.22556019e+00,\n",
       "          6.24281704e-01, -1.02435243e+00, -3.46098661e+00,\n",
       "         -1.06909737e-01,  1.30550992e+00,  4.23576593e+00,\n",
       "          4.57851362e+00,  1.26674354e+00,  2.16886139e+00,\n",
       "          9.35349822e-01,  3.74254751e+00, -6.57422423e-01,\n",
       "         -2.06708121e+00,  7.58482933e-01,  5.21994495e+00,\n",
       "          1.61252046e+00,  2.96681738e+00,  2.20601106e+00,\n",
       "          4.87562656e+00, -2.81224465e+00,  5.41209877e-01,\n",
       "          4.04851818e+00,  2.20901966e+00, -1.54032433e+00,\n",
       "          1.80163991e+00, -1.25681388e+00,  6.96961641e-01,\n",
       "          1.02093470e+00,  3.80258226e+00,  4.95308161e+00,\n",
       "          5.15094221e-01, -5.34633815e-01, -7.24097013e-01,\n",
       "          1.72857666e+00, -7.80998692e-02,  4.28231478e+00,\n",
       "         -3.10951658e-02,  5.34117556e+00,  1.85407495e+00,\n",
       "         -7.98941731e-01,  2.56672335e+00,  4.56166553e+00,\n",
       "          1.70546389e+00,  5.92179596e-01, -1.40692163e+00,\n",
       "         -2.27076602e+00,  4.79644489e+00, -3.18701696e+00,\n",
       "         -1.66065359e+00, -1.17878056e+00,  4.27828741e+00,\n",
       "          3.37637496e+00,  4.00437832e+00,  6.43438578e-01,\n",
       "          2.10365152e+00, -8.00002217e-01,  1.07351616e-01,\n",
       "          2.96950269e+00,  7.50044775e+00,  2.30522990e+00,\n",
       "          1.62922454e+00,  3.16510129e+00,  3.67418933e+00,\n",
       "         -3.82567495e-01,  1.21155512e-02,  4.47312164e+00,\n",
       "         -1.03163934e+00,  2.65258145e+00, -1.82980776e+00,\n",
       "         -5.35984457e-01, -2.55404711e+00, -1.88300276e+00,\n",
       "          2.70622826e+00,  2.75043225e+00,  3.15340829e+00,\n",
       "         -2.59387922e+00,  2.52822542e+00,  6.82396698e+00,\n",
       "         -3.14087212e-01,  5.90635443e+00, -4.16977119e+00,\n",
       "          5.56169033e+00, -3.04170418e+00,  1.21171153e+00,\n",
       "          3.19461513e+00, -3.74464703e+00,  2.05131388e+00,\n",
       "         -1.31006920e+00, -6.71747160e+00, -4.41218138e+00,\n",
       "         -8.35748315e-01,  1.46438360e+00,  2.42060661e-01,\n",
       "         -2.57800817e+00, -5.29334068e-01,  1.46615636e+00,\n",
       "          4.22720003e+00, -3.40467334e+00, -3.82316768e-01,\n",
       "          2.26882648e+00, -1.14077187e+00, -3.71460986e+00,\n",
       "          2.73545682e-01,  2.67026329e+00,  2.36565566e+00,\n",
       "          4.18572330e+00,  3.43257952e+00, -1.33200061e+00,\n",
       "          5.48781157e+00,  2.22901583e+00,  1.94197679e+00,\n",
       "          1.60273778e+00,  1.38794911e+00,  5.20106983e+00,\n",
       "          2.08096766e+00, -3.87359500e+00, -9.59076285e-01,\n",
       "          2.89512992e+00,  2.04426718e+00,  1.45316672e+00,\n",
       "          4.45083189e+00, -3.44190598e+00, -1.40160942e+00,\n",
       "          3.84339046e+00, -5.00721931e+00, -3.05429244e+00,\n",
       "          9.54973817e-01,  3.16066551e+00, -2.02603030e+00,\n",
       "          3.72557235e+00,  1.61426747e+00, -1.20742238e+00,\n",
       "         -4.11050797e+00, -3.10115870e-02, -2.80203080e+00,\n",
       "         -2.37731981e+00,  4.26480865e+00, -1.23745239e+00,\n",
       "          5.43991685e-01, -1.46685731e+00,  4.50079590e-01,\n",
       "         -3.28958511e+00, -4.02182055e+00,  1.49411067e-01,\n",
       "          7.56602335e+00, -2.17442536e+00, -6.16587341e-01,\n",
       "          5.06409931e+00, -2.64373660e-01, -1.28888726e+00,\n",
       "          1.21554649e+00,  4.63800907e+00, -1.62992311e+00,\n",
       "          3.58376527e+00,  3.60937327e-01, -2.74991894e+00,\n",
       "         -3.72242188e+00,  1.76070094e+00, -1.55866480e+00,\n",
       "         -4.42783624e-01,  2.05904555e+00,  1.78326917e+00,\n",
       "         -4.98763919e-02, -3.88641238e+00,  5.80276680e+00,\n",
       "          5.12474775e+00,  5.30947828e+00,  4.00607252e+00,\n",
       "         -3.45828867e+00, -7.86850870e-01,  8.60064447e-01,\n",
       "          1.48066485e+00,  5.44702911e+00,  2.61046076e+00,\n",
       "         -7.72850811e-01,  3.40912342e+00, -8.19407403e-01,\n",
       "          3.83319283e+00,  6.07430458e+00,  1.35050666e+00,\n",
       "         -8.04764271e-01, -6.68711364e-01, -2.38661313e+00,\n",
       "         -3.20274258e+00,  6.16013229e-01,  6.52725697e-01,\n",
       "          6.75204039e+00, -1.05563843e+00, -2.06757569e+00,\n",
       "          2.13838530e+00,  2.21265864e+00,  2.22024751e+00,\n",
       "          2.82511234e+00,  2.23066306e+00,  9.87094402e-01,\n",
       "          6.82146013e-01,  3.74312019e+00,  4.46704149e+00,\n",
       "          2.00253487e+00,  1.67457438e+00,  1.18297172e+00,\n",
       "          3.89747232e-01,  1.02565134e+00,  7.31603265e-01,\n",
       "          1.74734592e+00,  3.55181074e+00, -1.17915070e+00,\n",
       "         -3.29216003e-01, -1.96991527e+00, -1.25060296e+00,\n",
       "          2.92515922e+00,  6.61994398e-01,  9.58747342e-02,\n",
       "          2.61359274e-01, -3.47742939e+00,  2.83534154e-02,\n",
       "          1.39761734e+00,  1.47597277e+00,  3.85488105e+00,\n",
       "          1.17184842e+00,  1.81942821e+00,  1.86325610e+00,\n",
       "          2.67570987e-02, -1.77311826e+00, -2.98041654e+00,\n",
       "          2.52759886e+00,  1.65128326e+00,  1.43601942e+00,\n",
       "          2.25929570e+00,  4.51398897e+00, -1.96873233e-01,\n",
       "          1.71829402e+00,  4.45563364e+00,  2.44890809e+00,\n",
       "          3.69455218e+00,  4.57371759e+00,  7.49576283e+00,\n",
       "          2.76810288e+00, -2.90657139e+00,  2.91227317e+00,\n",
       "         -1.11828411e+00, -2.51714921e+00, -4.06264877e+00,\n",
       "         -1.38997746e+00, -2.18340039e+00,  1.36038959e+00,\n",
       "          1.16619039e+00, -3.51226115e+00, -4.96259022e+00,\n",
       "         -1.13185406e+00, -2.43638945e+00, -3.32056975e+00,\n",
       "         -3.25030994e+00, -4.89941883e+00, -3.90930939e+00,\n",
       "          4.98182631e+00,  1.93694341e+00, -1.07560515e+00,\n",
       "         -7.19616055e-01, -3.26606059e+00, -1.83269536e+00,\n",
       "         -2.95824504e+00, -4.18199587e+00, -2.24022937e+00,\n",
       "         -9.80931640e-01, -2.67982221e+00,  1.84540200e+00,\n",
       "          4.54614496e+00]], dtype=float32)>}"
      ]
     },
     "execution_count": 21,
     "metadata": {},
     "output_type": "execute_result"
    }
   ],
   "source": [
    "output"
   ]
  },
  {
   "cell_type": "code",
   "execution_count": 22,
   "id": "97fca4c8",
   "metadata": {},
   "outputs": [],
   "source": [
    "values = next(iter(output.values()))"
   ]
  },
  {
   "cell_type": "code",
   "execution_count": 23,
   "id": "05c5c96f",
   "metadata": {},
   "outputs": [
    {
     "data": {
      "text/plain": [
       "285"
      ]
     },
     "execution_count": 23,
     "metadata": {},
     "output_type": "execute_result"
    }
   ],
   "source": [
    "np.argmax(values)"
   ]
  },
  {
   "cell_type": "code",
   "execution_count": null,
   "id": "efb0ec8f",
   "metadata": {},
   "outputs": [],
   "source": []
  }
 ],
 "metadata": {
  "kernelspec": {
   "display_name": "Python 3 (ipykernel)",
   "language": "python",
   "name": "python3"
  },
  "language_info": {
   "codemirror_mode": {
    "name": "ipython",
    "version": 3
   },
   "file_extension": ".py",
   "mimetype": "text/x-python",
   "name": "python",
   "nbconvert_exporter": "python",
   "pygments_lexer": "ipython3",
   "version": "3.9.16"
  }
 },
 "nbformat": 4,
 "nbformat_minor": 5
}
